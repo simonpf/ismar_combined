{
 "cells": [
  {
   "cell_type": "markdown",
   "metadata": {},
   "source": [
    "# Preprocessing C161\n",
    "\n",
    "This notebook visualizes and compiles the input data for the combined retrieval from flight B984."
   ]
  },
  {
   "cell_type": "code",
   "execution_count": null,
   "metadata": {},
   "outputs": [],
   "source": [
    "%load_ext autoreload\n",
    "%autoreload 2\n",
    "from joint_flight.notebook import *\n",
    "from joint_flight import plot_observations\n",
    "from joint_flight.data.c161 import *"
   ]
  },
  {
   "cell_type": "markdown",
   "metadata": {},
   "source": [
    "## Overview"
   ]
  },
  {
   "cell_type": "code",
   "execution_count": null,
   "metadata": {
    "scrolled": false
   },
   "outputs": [],
   "source": [
    "from matplotlib.gridspec import GridSpec\n",
    "f = plt.figure(figsize=(15, 20))\n",
    "gs = GridSpec(10, 2, width_ratios=[1.0, 0.1])\n",
    "axs = [f.add_subplot(gs[i, 0]) for i in range(10)]\n",
    "legends = [f.add_subplot(gs[i, 1]) for i in range(10)]\n",
    "\n",
    "\n",
    "plot_observations(ISMAR, MARSS, RADAR, axs=axs, legends=legends)\n",
    "plt.show()"
   ]
  },
  {
   "cell_type": "markdown",
   "metadata": {},
   "source": [
    "## Atmospheric background"
   ]
  },
  {
   "cell_type": "code",
   "execution_count": null,
   "metadata": {},
   "outputs": [],
   "source": [
    "ATMOSPHERE"
   ]
  },
  {
   "cell_type": "code",
   "execution_count": null,
   "metadata": {},
   "outputs": [],
   "source": [
    "from joint_flight import plot_atmosphere\n",
    "from matplotlib.colors import Normalize, LogNorm\n",
    "\n",
    "plot_atmosphere(RADAR, ATMOSPHERE)"
   ]
  },
  {
   "cell_type": "markdown",
   "metadata": {},
   "source": [
    "## Observations\n",
    "### Marss"
   ]
  },
  {
   "cell_type": "code",
   "execution_count": null,
   "metadata": {},
   "outputs": [],
   "source": [
    "from matplotlib.colors import Normalize\n",
    "\n",
    "def plot_channels(data, names):\n",
    "    f, axs = plt.subplots(2, 1)\n",
    "    \n",
    "    x = RADAR.d / 1e3\n",
    "    x_min = x.min()\n",
    "    x_max = x.max()\n",
    "    \n",
    "    ax = axs[0]\n",
    "    for d, n in zip(data, names):\n",
    "        ax.plot(x, d, label=n)\n",
    "    ax.legend(bbox_to_anchor=[1.0, 0.5])\n",
    "    ax.set_xlim([x_min, x_max])\n",
    "        \n",
    "    ax = axs[1]\n",
    "    y = RADAR.y\n",
    "    x = RADAR.x / 1e3\n",
    "    dbz = RADAR.dbz\n",
    "    \n",
    "    print(dbz)\n",
    "    ax.pcolormesh(x, y / 1e3, dbz, norm=Normalize(-20, 20))\n",
    "    ax.set_ylim(0, 11)\n",
    "    ax.set_xlim([x_min, x_max])\n",
    "    plt.show()"
   ]
  },
  {
   "cell_type": "code",
   "execution_count": null,
   "metadata": {},
   "outputs": [],
   "source": [
    "MARSS"
   ]
  },
  {
   "cell_type": "code",
   "execution_count": null,
   "metadata": {},
   "outputs": [],
   "source": [
    "n_rays = RADAR.d.size\n",
    "y_marss = np.zeros((n_rays, 5))\n",
    "y_marss_nedt = np.zeros((n_rays, 5))\n",
    "tbs_marss = MARSS[\"brightness_temperatures\"]\n",
    "errors_marss = MARSS[\"errors\"]"
   ]
  },
  {
   "cell_type": "markdown",
   "metadata": {},
   "source": [
    "### 89 GHz"
   ]
  },
  {
   "cell_type": "code",
   "execution_count": null,
   "metadata": {},
   "outputs": [],
   "source": [
    "data = [\n",
    "    tbs_marss[:, 0],\n",
    "]\n",
    "names = map(lambda x: x.data, MARSS.channel[:1])\n",
    "plot_channels(data, names)"
   ]
  },
  {
   "cell_type": "code",
   "execution_count": null,
   "metadata": {},
   "outputs": [],
   "source": [
    "y_marss[:, 0] = tbs_marss[:, 0]\n",
    "y_marss_nedt[:, 0] = errors_marss[:, 0] + 1e6 * SURFACE_MASK.data"
   ]
  },
  {
   "cell_type": "markdown",
   "metadata": {},
   "source": [
    "### 157 GHz"
   ]
  },
  {
   "cell_type": "code",
   "execution_count": null,
   "metadata": {},
   "outputs": [],
   "source": [
    "data = [\n",
    "    tbs_marss[:, 1],\n",
    "]\n",
    "names = map(lambda x: x.data, MARSS.channel[1:2])\n",
    "plot_channels(data, names)"
   ]
  },
  {
   "cell_type": "code",
   "execution_count": null,
   "metadata": {},
   "outputs": [],
   "source": [
    "y_marss[:, 1] = tbs_marss[:, 1]\n",
    "y_marss_nedt[:, 1] = errors_marss[:, 1] + 1e6 * SURFACE_MASK.data"
   ]
  },
  {
   "cell_type": "markdown",
   "metadata": {},
   "source": [
    "### 183 GHz"
   ]
  },
  {
   "cell_type": "code",
   "execution_count": null,
   "metadata": {},
   "outputs": [],
   "source": [
    "data = [\n",
    "    tbs_marss[:, 2:],\n",
    "]\n",
    "names = map(lambda x: x.data, MARSS.channel[2:])\n",
    "plot_channels(data, names)"
   ]
  },
  {
   "cell_type": "code",
   "execution_count": null,
   "metadata": {},
   "outputs": [],
   "source": [
    "y_marss[:, 2:] = tbs_marss[:, 2:]\n",
    "y_marss_nedt[:, 2:] = errors_marss[:, 2:]"
   ]
  },
  {
   "cell_type": "markdown",
   "metadata": {},
   "source": [
    "## ISMAR"
   ]
  },
  {
   "cell_type": "code",
   "execution_count": null,
   "metadata": {},
   "outputs": [],
   "source": [
    "y_ismar = np.zeros((n_rays, 12))\n",
    "y_ismar_nedt = np.zeros((n_rays, 12))\n",
    "tbs_ismar = ISMAR.brightness_temperatures.data\n",
    "errors_ismar = ISMAR.errors.data"
   ]
  },
  {
   "cell_type": "markdown",
   "metadata": {},
   "source": [
    "### 118 GHz"
   ]
  },
  {
   "cell_type": "code",
   "execution_count": null,
   "metadata": {},
   "outputs": [],
   "source": [
    "data = [\n",
    "    tbs_ismar[:, 0],\n",
    "    tbs_ismar[:, 1],\n",
    "    tbs_ismar[:, 2],\n",
    "    tbs_ismar[:, 3],\n",
    "    tbs_ismar[:, 4],\n",
    "]\n",
    "names = map(lambda x: x.data, ISMAR.channel[:5])\n",
    "plot_channels(data, names)"
   ]
  },
  {
   "cell_type": "code",
   "execution_count": null,
   "metadata": {},
   "outputs": [],
   "source": [
    "y_ismar[:, :5] = tbs_ismar[:, :5]\n",
    "y_ismar_nedt[:, :5] = errors_ismar[:, :5]\n",
    "y_ismar_nedt[:, 1:5] += SURFACE_MASK.data.reshape(-1, 1) * 1e6"
   ]
  },
  {
   "cell_type": "markdown",
   "metadata": {},
   "source": [
    "### 243 GHz"
   ]
  },
  {
   "cell_type": "code",
   "execution_count": null,
   "metadata": {},
   "outputs": [],
   "source": [
    "data = [\n",
    "    tbs_ismar[:, 5],\n",
    "    tbs_ismar[:, 6]\n",
    "]\n",
    "names = map(lambda x: x.data, ISMAR.channel[5:7])\n",
    "plot_channels(data, names)"
   ]
  },
  {
   "cell_type": "code",
   "execution_count": null,
   "metadata": {},
   "outputs": [],
   "source": [
    "y_ismar[:, 5] = 0.5 * (tbs_ismar[:, 5] + tbs_ismar[:, 6])\n",
    "y_ismar_nedt[:, 5] = errors_ismar[:, 5]"
   ]
  },
  {
   "cell_type": "code",
   "execution_count": null,
   "metadata": {},
   "outputs": [],
   "source": [
    "from joint_flight.data.c161 import ISMAR_30\n",
    "\n",
    "tbs_ismar_30 = ISMAR_30[\"brightness_temperatures\"].data\n",
    "data = [\n",
    "    tbs_ismar_30[:, 5],\n",
    "    tbs_ismar_30[:, 6]\n",
    "]\n",
    "names = map(lambda x: x.data, ISMAR.channel[5:7])\n",
    "plot_channels(data, names)"
   ]
  },
  {
   "cell_type": "markdown",
   "metadata": {},
   "source": [
    "## 325 GHz"
   ]
  },
  {
   "cell_type": "code",
   "execution_count": null,
   "metadata": {},
   "outputs": [],
   "source": [
    "data = [\n",
    "    tbs_ismar[:, 7],\n",
    "    tbs_ismar[:, 8],\n",
    "    tbs_ismar[:, 9],\n",
    "]\n",
    "names = map(lambda x: x.data, ISMAR.channel[7:10])\n",
    "plot_channels(data, names)"
   ]
  },
  {
   "cell_type": "code",
   "execution_count": null,
   "metadata": {},
   "outputs": [],
   "source": [
    "y_ismar[:, 6] = tbs_ismar[:, 8]\n",
    "y_ismar_nedt[:, 6] = errors_ismar[:, 8]"
   ]
  },
  {
   "cell_type": "markdown",
   "metadata": {},
   "source": [
    "## 424 GHz"
   ]
  },
  {
   "cell_type": "code",
   "execution_count": null,
   "metadata": {},
   "outputs": [],
   "source": [
    "data = [\n",
    "    tbs_ismar[:, 13]\n",
    "]\n",
    "names = map(lambda x: x.data, ISMAR.channel[[13]])\n",
    "plot_channels(data, names)"
   ]
  },
  {
   "cell_type": "markdown",
   "metadata": {},
   "source": [
    "## 448 GHz"
   ]
  },
  {
   "cell_type": "code",
   "execution_count": null,
   "metadata": {},
   "outputs": [],
   "source": [
    "data = [\n",
    "    tbs_ismar[:, 14],\n",
    "    tbs_ismar[:, 15],\n",
    "    tbs_ismar[:, 16],\n",
    "]\n",
    "names = map(lambda x: x.data, ISMAR.channel[14:17])\n",
    "plot_channels(data, names)"
   ]
  },
  {
   "cell_type": "code",
   "execution_count": null,
   "metadata": {},
   "outputs": [],
   "source": [
    "y_ismar[:, 7:10] = tbs_ismar[:, 14:17]\n",
    "y_ismar_nedt[:, 7:10] = errors_ismar[:, 14:17]"
   ]
  },
  {
   "cell_type": "markdown",
   "metadata": {},
   "source": [
    "## 664 GHz"
   ]
  },
  {
   "cell_type": "code",
   "execution_count": null,
   "metadata": {},
   "outputs": [],
   "source": [
    "data = [\n",
    "    tbs_ismar[:, 17],\n",
    "    tbs_ismar[:, 18],\n",
    "]\n",
    "names = map(lambda x: x.data, ISMAR.channel[17:19])\n",
    "plot_channels(data, names)"
   ]
  },
  {
   "cell_type": "code",
   "execution_count": null,
   "metadata": {},
   "outputs": [],
   "source": [
    "y_ismar[:, 10] = tbs_ismar[:, 17]\n",
    "y_ismar_nedt[:, 10] = errors_ismar[:, 17]"
   ]
  },
  {
   "cell_type": "markdown",
   "metadata": {},
   "source": [
    "## 874 GHz"
   ]
  },
  {
   "cell_type": "code",
   "execution_count": null,
   "metadata": {},
   "outputs": [],
   "source": [
    "data = [\n",
    "    tbs_ismar[:, 19],\n",
    "    tbs_ismar[:, 20],\n",
    "]\n",
    "names = map(lambda x: x.data, ISMAR.channel[19:])\n",
    "plot_channels(data, names)"
   ]
  },
  {
   "cell_type": "code",
   "execution_count": null,
   "metadata": {},
   "outputs": [],
   "source": [
    "y_ismar[:, 11] = tbs_ismar[:, 20]\n",
    "y_ismar_nedt[:, 11] = errors_ismar[:, 20]"
   ]
  },
  {
   "cell_type": "code",
   "execution_count": null,
   "metadata": {},
   "outputs": [],
   "source": [
    "plt.plot(y_ismar_nedt[:, 11])\n",
    "plt.show()"
   ]
  },
  {
   "cell_type": "code",
   "execution_count": null,
   "metadata": {},
   "outputs": [],
   "source": [
    "RADAR.dbz.min()\n"
   ]
  },
  {
   "cell_type": "code",
   "execution_count": null,
   "metadata": {},
   "outputs": [],
   "source": [
    "%rm ../data/input_c161.nc"
   ]
  },
  {
   "cell_type": "code",
   "execution_count": null,
   "metadata": {},
   "outputs": [],
   "source": [
    "import xarray as xr\n",
    "input_data = {\n",
    "    # Atmosphere\n",
    "    \"latitude\": ((\"rays\",), RADAR.latitude),\n",
    "    \"longitude\": ((\"rays\",), RADAR.longitude),\n",
    "    \"altitude\": ((\"rays\", \"levels\",), RADAR.height.data),\n",
    "    \"pressure\": ((\"rays\", \"levels\"), ATMOSPHERE.pressure),\n",
    "    \"temperature\": ((\"rays\", \"levels\"), ATMOSPHERE.temperature),\n",
    "    \"cloud_water\": ((\"rays\", \"levels\"), ATMOSPHERE.cloud_water),\n",
    "    \"H2O_xa\": ((\"rays\", \"levels\"), ATMOSPHERE.relative_humidity),\n",
    "    \"H2O\": ((\"rays\", \"levels\"), ATMOSPHERE.water_vapor),\n",
    "    \"O2\": ((\"rays\", \"levels\"), ATMOSPHERE.oxygen),\n",
    "    \"O3\": ((\"rays\", \"levels\"), ATMOSPHERE.ozone),\n",
    "    \"N2\": ((\"rays\", \"levels\"), ATMOSPHERE.nitrogen),\n",
    "    # Surface variables\n",
    "    \"sea_surface_temperature\": ((\"rays\",), ATMOSPHERE.sea_surface_temperature),\n",
    "    \"wind_u\": ((\"rays\",), ATMOSPHERE.u10),\n",
    "    \"wind_v\": ((\"rays\",), ATMOSPHERE.v10),\n",
    "    \"surface_wind_speed\": ((\"rays\",\n",
    "                            np.sqrt(ATMOSPHERE.u10 ** 2 +\n",
    "                                    ATMOSPHERE.v10 ** 2))),\n",
    "    # Observations\n",
    "    \"y_cloud_sat\": ((\"rays\", \"range_bins\"), RADAR.dbz),\n",
    "    \"y_cloud_sat_nedt\": ((\"rays\", \"range_bins\"), 0.5 * np.ones_like(RADAR.dbz)),\n",
    "    \"cloud_sat_range_bins\": ((\"rays\", \"range_bin_boundaries\"), RADAR.range_bins),\n",
    "    \"y_marss\": ((\"rays\", \"marss_channels\"), y_marss),\n",
    "    \"y_marss_nedt\": ((\"rays\", \"marss_channels\"), y_marss_nedt),\n",
    "    \"marss_sensor_position\": ((\"rays\",), MARSS.altitude),\n",
    "    \"marss_sensor_line_of_sight\": ((\"rays\",), 180 * np.ones(MARSS.altitude.size)),\n",
    "    \"y_ismar\": ((\"rays\", \"ismar_channels\"), y_ismar),\n",
    "    \"y_ismar_nedt\": ((\"rays\", \"ismar_channels\"), y_ismar_nedt),\n",
    "    \"ismar_sensor_position\": ((\"rays\",), ISMAR.altitude),\n",
    "    \"ismar_sensor_line_of_sight\": ((\"rays\",), 180 * np.ones(ISMAR.altitude.size))\n",
    "}\n",
    "dataset = xr.Dataset(input_data)\n",
    "dataset.to_netcdf(\"../data/input_c161.nc\")"
   ]
  }
 ],
 "metadata": {
  "kernelspec": {
   "display_name": "Python 3",
   "language": "python",
   "name": "python3"
  },
  "language_info": {
   "codemirror_mode": {
    "name": "ipython",
    "version": 3
   },
   "file_extension": ".py",
   "mimetype": "text/x-python",
   "name": "python",
   "nbconvert_exporter": "python",
   "pygments_lexer": "ipython3",
   "version": "3.7.4"
  }
 },
 "nbformat": 4,
 "nbformat_minor": 4
}
