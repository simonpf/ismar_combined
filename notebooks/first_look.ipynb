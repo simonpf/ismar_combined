{
 "cells": [
  {
   "cell_type": "markdown",
   "metadata": {},
   "source": [
    "# Joint flight data — first look"
   ]
  },
  {
   "cell_type": "code",
   "execution_count": 1,
   "metadata": {
    "collapsed": true
   },
   "outputs": [],
   "source": [
    "from setup   import *\n",
    "from netCDF4 import Dataset\n",
    "import glob"
   ]
  },
  {
   "cell_type": "code",
   "execution_count": 2,
   "metadata": {
    "collapsed": true
   },
   "outputs": [],
   "source": [
    "files = glob.glob(\"../data/*.nc\")\n",
    "halo_mw     = Dataset(glob.glob(\"../data/*nawd*mwr*.nc\")[0],    \"r\")\n",
    "halo_radar  = Dataset(glob.glob(\"../data/*nawd*cr*.nc\")[0],     \"r\")\n",
    "halo_sonde  = Dataset(glob.glob(\"../data/*nawd*sonde*.nc\")[0],  \"r\")\n",
    "rasta_radar = Dataset(glob.glob(\"../data/NAWDEX*RASTA*.nc\")[0], \"r\")\n",
    "faam_ismar  = Dataset(glob.glob(\"../data/metoffice-ismar_faam*.nc\")[0], \"r\")\n",
    "faam_marss  = Dataset(glob.glob(\"../data/metoffice-marss_faam*.nc\")[0], \"r\")"
   ]
  },
  {
   "cell_type": "code",
   "execution_count": 3,
   "metadata": {},
   "outputs": [
    {
     "data": {
      "text/plain": [
       "array([ 22.23999977,  23.04000092,  23.84000015,  25.44000053,\n",
       "        26.23999977,  27.84000015,  31.39999962,  50.29999924,\n",
       "        51.75999832,  52.79999924,  53.75      ,  54.93999863,\n",
       "        56.65999985,  58.        ,  90.        , 120.15000153,\n",
       "       121.05000305, 122.94999695, 127.25      , 183.91000366,\n",
       "       184.80999756, 185.80999756, 186.80999756, 188.30999756,\n",
       "       190.80999756, 195.80999756])"
      ]
     },
     "execution_count": 3,
     "metadata": {},
     "output_type": "execute_result"
    }
   ],
   "source": [
    "halo_mw.variables[\"freq_sb\"][:]"
   ]
  },
  {
   "cell_type": "markdown",
   "metadata": {},
   "source": [
    "### HAMP RADAR and passive data\n",
    "\n",
    "For the HALO aircraft, the joined leg of the flight campaign lasted from 9:51 to 10:16 UTC. Here we extract the start and end time of the leg in seconds passed sind the reference data first of January 1970."
   ]
  },
  {
   "cell_type": "code",
   "execution_count": 4,
   "metadata": {
    "collapsed": true
   },
   "outputs": [],
   "source": [
    "from datetime import datetime\n",
    "\n",
    "t0 = datetime(year = 1970, month = 1, day = 1, hour = 0, minute = 0, second = 0)\n",
    "t1 = datetime(year = 2016, month = 10, day = 14, hour = 9, minute = 51, second = 30)\n",
    "t2 = datetime(year = 2016, month = 10, day = 14, hour = 10, minute = 15, second = 30)\n",
    "\n",
    "dt_start = (t1 - t0).total_seconds()\n",
    "dt_end   = (t2 - t0).total_seconds()"
   ]
  },
  {
   "cell_type": "code",
   "execution_count": 6,
   "metadata": {},
   "outputs": [
    {
     "ename": "NameError",
     "evalue": "name 'halo_times' is not defined",
     "output_type": "error",
     "traceback": [
      "\u001b[0;31m---------------------------------------------------------------------------\u001b[0m",
      "\u001b[0;31mNameError\u001b[0m                                 Traceback (most recent call last)",
      "\u001b[0;32m<ipython-input-6-1c608741b063>\u001b[0m in \u001b[0;36m<module>\u001b[0;34m()\u001b[0m\n\u001b[1;32m      1\u001b[0m \u001b[0malo_times\u001b[0m \u001b[0;34m=\u001b[0m \u001b[0mhalo_radar\u001b[0m\u001b[0;34m[\u001b[0m\u001b[0;34m\"time\"\u001b[0m\u001b[0;34m]\u001b[0m\u001b[0;34m[\u001b[0m\u001b[0;34m:\u001b[0m\u001b[0;34m]\u001b[0m\u001b[0;34m\u001b[0m\u001b[0m\n\u001b[0;32m----> 2\u001b[0;31m \u001b[0mi_start\u001b[0m \u001b[0;34m=\u001b[0m \u001b[0mnp\u001b[0m\u001b[0;34m.\u001b[0m\u001b[0mwhere\u001b[0m\u001b[0;34m(\u001b[0m\u001b[0mhalo_times\u001b[0m \u001b[0;34m>=\u001b[0m \u001b[0mdt_start\u001b[0m\u001b[0;34m)\u001b[0m\u001b[0;34m[\u001b[0m\u001b[0;36m0\u001b[0m\u001b[0;34m]\u001b[0m\u001b[0;34m[\u001b[0m\u001b[0;36m0\u001b[0m\u001b[0;34m]\u001b[0m\u001b[0;34m\u001b[0m\u001b[0m\n\u001b[0m\u001b[1;32m      3\u001b[0m \u001b[0mi_end\u001b[0m   \u001b[0;34m=\u001b[0m \u001b[0mnp\u001b[0m\u001b[0;34m.\u001b[0m\u001b[0mwhere\u001b[0m\u001b[0;34m(\u001b[0m\u001b[0mhalo_times\u001b[0m \u001b[0;34m>\u001b[0m  \u001b[0mdt_end\u001b[0m\u001b[0;34m)\u001b[0m\u001b[0;34m[\u001b[0m\u001b[0;36m0\u001b[0m\u001b[0;34m]\u001b[0m\u001b[0;34m[\u001b[0m\u001b[0;36m0\u001b[0m\u001b[0;34m]\u001b[0m\u001b[0;34m\u001b[0m\u001b[0m\n\u001b[1;32m      4\u001b[0m \u001b[0;34m\u001b[0m\u001b[0m\n\u001b[1;32m      5\u001b[0m \u001b[0mhamp_dbz\u001b[0m \u001b[0;34m=\u001b[0m \u001b[0mhalo_radar\u001b[0m\u001b[0;34m[\u001b[0m\u001b[0;34m\"dbz\"\u001b[0m\u001b[0;34m]\u001b[0m\u001b[0;34m[\u001b[0m\u001b[0mi_start\u001b[0m \u001b[0;34m:\u001b[0m \u001b[0mi_end\u001b[0m\u001b[0;34m]\u001b[0m\u001b[0;34m\u001b[0m\u001b[0m\n",
      "\u001b[0;31mNameError\u001b[0m: name 'halo_times' is not defined"
     ]
    }
   ],
   "source": [
    "alo_times = halo_radar[\"time\"][:]\n",
    "i_start = np.where(halo_times >= dt_start)[0][0]\n",
    "i_end   = np.where(halo_times >  dt_end)[0][0]\n",
    "\n",
    "hamp_dbz = halo_radar[\"dbz\"][i_start : i_end]\n",
    "hamp_lat = halo_radar[\"lat\"][i_start : i_end]\n",
    "hamp_lon = halo_radar[\"lon\"][i_start : i_end]\n",
    "hamp_zsl = halo_radar[\"zsl\"][i_start : i_end]\n",
    "hamp_z   = halo_radar.variables[\"height\"][:]\n",
    "hamp_bt  = halo_mw.variables[\"tb\"][i_start : i_end, :]\n",
    "hamp_channels = np.array([1, 1, 1, 1, 1, 1, 1, \n",
    "                          2, 2, 2, 2, 2, 2, 2,\n",
    "                          3,\n",
    "                          4, 4, 4, 4,\n",
    "                          5, 5, 5, 5, 5, 5, 5])"
   ]
  },
  {
   "cell_type": "markdown",
   "metadata": {},
   "source": [
    "We define the coordinates of the first HAMP radar profile as reference coordinates. These will be used to convert the other coordinates to a rectilinear coordinate system within which the collocation will be performed."
   ]
  },
  {
   "cell_type": "code",
   "execution_count": null,
   "metadata": {
    "collapsed": true
   },
   "outputs": [],
   "source": [
    "lat_r = hamp_lat[0]\n",
    "lon_r = hamp_lon[0]"
   ]
  },
  {
   "cell_type": "code",
   "execution_count": null,
   "metadata": {
    "collapsed": true
   },
   "outputs": [],
   "source": [
    "from geopy import distance as dist\n",
    "hamp_d = np.zeros(hamp_lat.shape)\n",
    "for i in range(hamp_d.size):\n",
    "    hamp_d[i] = dist.vincenty((lat_r, lon_r), (hamp_lat[i], hamp_lon[i])).km"
   ]
  },
  {
   "cell_type": "markdown",
   "metadata": {},
   "source": [
    "### HALO Sondes\n"
   ]
  },
  {
   "cell_type": "code",
   "execution_count": null,
   "metadata": {
    "collapsed": true
   },
   "outputs": [],
   "source": [
    "halo_sonde.variables['sonde_number'][:]\n",
    "sonde_z   = halo_sonde.variables[\"height\"][:]\n",
    "\n",
    "sonde_lat_m = halo_sonde.variables[\"lat\"][:]\n",
    "sonde_lon_m = halo_sonde.variables[\"lon\"][:]\n",
    "sonde_p_m   = halo_sonde.variables[\"pa\"][:]\n",
    "sonde_rh_m  = halo_sonde.variables[\"hur\"][:]\n",
    "sonde_t_m  = halo_sonde.variables[\"ta\"][:]\n",
    "sonde_d_m = np.zeros(sonde_lat_m.shape)\n",
    "\n",
    "sonde_lat = np.zeros(sonde_lat_m.shape)\n",
    "sonde_lon = np.zeros(sonde_lat_m.shape)\n",
    "sonde_p   = np.zeros(sonde_lat_m.shape)\n",
    "sonde_t   = np.zeros(sonde_lat_m.shape)\n",
    "sonde_rh  = np.zeros(sonde_lat_m.shape)\n",
    "sonde_d   = np.zeros(sonde_lat_m.shape)\n",
    "\n",
    "for i in range(sonde_lat.shape[0]):\n",
    "    \n",
    "    mask = sonde_lat_m.mask\n",
    "    m = np.logical_not(mask[i, :])\n",
    "    sonde_lat[i, :] = np.interp(sonde_z, sonde_z[m], sonde_lat_m[i, m])\n",
    "    \n",
    "    mask = sonde_lon_m.mask\n",
    "    m = np.logical_not(mask[i, :])\n",
    "    sonde_lon[i, :] = np.interp(sonde_z, sonde_z[m], sonde_lon_m[i, m])\n",
    "    \n",
    "    mask = sonde_p_m.mask\n",
    "    m = np.logical_not(mask[i, :])\n",
    "    sonde_p[i, :]   = np.interp(sonde_z, sonde_z[m], sonde_p_m[i, m])\n",
    "    \n",
    "    mask = sonde_t_m.mask\n",
    "    m = np.logical_not(mask[i, :])\n",
    "    sonde_t[i, :]   = np.interp(sonde_z, sonde_z[m], sonde_t_m[i, m])\n",
    "    \n",
    "    mask = sonde_rh_m.mask\n",
    "    m = np.logical_not(mask[i, :])\n",
    "    sonde_rh[i, :]  = np.interp(sonde_z, sonde_z[m], sonde_rh_m[i, m])\n",
    "    \n",
    "    \n",
    "for i in range(sonde_d.shape[0]):\n",
    "    for j in range(sonde_d[i, :].size):\n",
    "        sonde_d[i, j] = dist.vincenty((lat_r, lon_r), (sonde_lat[i, j], sonde_lon[i, j])).km\n",
    "        \n",
    "\n",
    "for i in range(sonde_d.shape[0]):\n",
    "    m = sonde_d[i, :] < 1000.0\n",
    "    sonde_d[i, :]  = np.interp(sonde_z, sonde_z[m], sonde_d[i, m])\n",
    "    \n",
    "# Sort sondes\n",
    "\n",
    "inds = np.argsort(sonde_d[:, 0])\n",
    "sonde_d = sonde_d[inds, :]"
   ]
  },
  {
   "cell_type": "code",
   "execution_count": null,
   "metadata": {
    "collapsed": true
   },
   "outputs": [],
   "source": [
    "sonde_lon[:, -1]"
   ]
  },
  {
   "cell_type": "markdown",
   "metadata": {},
   "source": [
    "### Rasta data\n",
    "For the Falcon aircraft, the time is given in hours since midnight so determining the start and end points of the joint flight is simpler."
   ]
  },
  {
   "cell_type": "code",
   "execution_count": null,
   "metadata": {
    "collapsed": true
   },
   "outputs": [],
   "source": [
    "rasta_radar.variables"
   ]
  },
  {
   "cell_type": "code",
   "execution_count": null,
   "metadata": {
    "collapsed": true
   },
   "outputs": [],
   "source": [
    "from datetime import datetime\n",
    "\n",
    "t_start = 9  + 50 / 60\n",
    "t_end   = 10 + 21 / 60"
   ]
  },
  {
   "cell_type": "code",
   "execution_count": null,
   "metadata": {
    "collapsed": true
   },
   "outputs": [],
   "source": [
    "rasta_times = rasta_radar[\"time\"][:]\n",
    "i_start = np.where(rasta_times >= t_start)[0][0]\n",
    "i_end   = np.where(rasta_times >  t_end)[0][0]\n",
    "\n",
    "rasta_dbz = rasta_radar[\"Z\"][i_start : i_end, :]\n",
    "rasta_lat = rasta_radar[\"latitude\"][i_start : i_end]\n",
    "rasta_lon = rasta_radar[\"longitude\"][i_start : i_end]\n",
    "altitude  = rasta_radar.variables[\"altitude\"][i_start : i_end]\n",
    "rasta_z   = rasta_radar.variables[\"height_2D\"][i_start : i_end, :]\n",
    "rasta_d = np.zeros(rasta_lat.shape)\n",
    "for i in range(rasta_d.size):\n",
    "    rasta_d[i] = dist.vincenty((lat_r, lon_r), (rasta_lat[i], rasta_lon[i])).km"
   ]
  },
  {
   "cell_type": "markdown",
   "metadata": {},
   "source": [
    "## Ismar data"
   ]
  },
  {
   "cell_type": "code",
   "execution_count": null,
   "metadata": {
    "collapsed": true
   },
   "outputs": [],
   "source": [
    "faam_ismar.variables[\"sensor_view_angle\"]"
   ]
  },
  {
   "cell_type": "code",
   "execution_count": null,
   "metadata": {
    "collapsed": true
   },
   "outputs": [],
   "source": [
    "faam_ismar.variables"
   ]
  },
  {
   "cell_type": "code",
   "execution_count": null,
   "metadata": {
    "collapsed": true
   },
   "outputs": [],
   "source": [
    "ismar_time = faam_ismar.variables[\"time\"][:]\n",
    "i_start = np.where(ismar_time / 3600 > 9.81)[0][0]\n",
    "i_end   = np.where(ismar_time / 3600 >  10.35)[0][0]\n",
    "\n",
    "ismar_angles  = faam_ismar.variables[\"angle\"][i_start : i_end]\n",
    "ismar_vangles = faam_ismar.variables[\"sensor_view_angle\"][i_start : i_end]\n",
    "indices = np.logical_and(ismar_vangles > -5, ismar_vangles < 5)\n",
    "ismar_channel_names = [\"\".join([c.decode() for c in cs]) for cs in faam_ismar.variables[\"channel\"]]\n",
    "ismar_lat = faam_ismar.variables[\"latitude\"][i_start : i_end][indices]\n",
    "ismar_lon = faam_ismar.variables[\"longitude\"][i_start : i_end][indices]\n",
    "ismar_tbs = faam_ismar.variables[\"brightness_temperature\"][i_start : i_end, :][indices]\n",
    "ismar_azimuth = faam_ismar.variables[\"sensor_azimuth_angle\"][i_start : i_end][indices]\n",
    "ismar_pes = faam_ismar.variables[\"brightness_temperature_positive_error\"][i_start : i_end, :][indices]\n",
    "ismar_nes = faam_ismar.variables[\"brightness_temperature_negative_error\"][i_start : i_end, :][indices]\n",
    "ismar_nedt = faam_ismar.variables[\"brightness_temperature_random_error\"][i_start : i_end, :][indices]\n",
    "ismar_channels = np.array([1, 1, 1, 1, 1, 2, 2, 3, 3, 3, 4, 4, 4, 4, 4, 4, 4, 6, 6, 8, 8])\n",
    "ismar_d = np.zeros(ismar_lat.shape)\n",
    "for i in range(ismar_d.size):\n",
    "    ismar_d[i] = dist.vincenty((lat_r, lon_r), (ismar_lat[i], ismar_lon[i])).km"
   ]
  },
  {
   "cell_type": "markdown",
   "metadata": {},
   "source": [
    "### Channel selection\n",
    "\n",
    "We ignore channels with excessively high variance (> 100)"
   ]
  },
  {
   "cell_type": "code",
   "execution_count": null,
   "metadata": {
    "collapsed": true
   },
   "outputs": [],
   "source": [
    "#channels = [0, 1, 2, 3, 4, 5, 6, 7, 8, 9, 15, 16, 17, 18]\n",
    "#len(np.where(np.all(np.logical_and(ismar_tbs[:, channels] > 0, ismar_tbs[:, channels] < 400), axis = 1))[0])"
   ]
  },
  {
   "cell_type": "code",
   "execution_count": null,
   "metadata": {
    "collapsed": true
   },
   "outputs": [],
   "source": [
    "#ismar_tbs = ismar_tbs[:, channels]\n",
    "#ismar_channels = ismar_channels[channels]"
   ]
  },
  {
   "cell_type": "markdown",
   "metadata": {},
   "source": [
    "## MARSS"
   ]
  },
  {
   "cell_type": "code",
   "execution_count": null,
   "metadata": {
    "collapsed": true
   },
   "outputs": [],
   "source": [
    "marss_time = faam_marss.variables[\"time\"][:]\n",
    "i_start = np.where(marss_time / 3600 > 9.81)[0][0]\n",
    "i_end   = np.where(marss_time / 3600 >  10.35)[0][0]\n",
    "\n",
    "marss_angles  = faam_marss.variables[\"angle\"][i_start : i_end]\n",
    "marss_vangles = faam_marss.variables[\"sensor_view_angle\"][i_start : i_end]\n",
    "indices = np.logical_and(marss_vangles > -3, marss_vangles < 3)\n",
    "marss_lat = faam_marss.variables[\"latitude\"][i_start : i_end][indices]\n",
    "marss_lon = faam_marss.variables[\"longitude\"][i_start : i_end][indices]\n",
    "marss_tbs = faam_marss.variables[\"brightness_temperature\"][i_start : i_end, :][indices]\n",
    "marss_azimuth = faam_marss.variables[\"sensor_azimuth_angle\"][i_start : i_end][indices]\n",
    "marss_channels = np.array([1, 1, 1, 1, 1, 2, 2, 3, 3, 3, 4, 4, 4, 4, 4, 4, 4, 6, 6, 8, 8])\n",
    "marss_d = np.zeros(marss_lat.shape)\n",
    "for i in range(marss_d.size):\n",
    "    marss_d[i] = dist.vincenty((lat_r, lon_r), (marss_lat[i], marss_lon[i])).km"
   ]
  },
  {
   "cell_type": "markdown",
   "metadata": {},
   "source": [
    "## DEM data"
   ]
  },
  {
   "cell_type": "code",
   "execution_count": null,
   "metadata": {
    "collapsed": true
   },
   "outputs": [],
   "source": [
    "import rasterio\n",
    "from scipy.interpolate import LinearNDInterpolator\n",
    "dem_data = rasterio.open('../data/dem.tif')\n",
    "\n",
    "west  = -6.9\n",
    "south = 56.0\n",
    "east  = -6.3\n",
    "north = 60.0\n",
    "\n",
    "dem_z = dem_data.read()[0, :, :]\n",
    "height, width = dem_z.shape\n",
    "dem_lon = np.linspace(west, east, width)\n",
    "dem_lat = np.linspace(north, south, height)"
   ]
  },
  {
   "cell_type": "markdown",
   "metadata": {},
   "source": [
    "## Flight path"
   ]
  },
  {
   "cell_type": "code",
   "execution_count": null,
   "metadata": {
    "collapsed": true
   },
   "outputs": [],
   "source": [
    "import cartopy.crs as ccrs\n",
    "import matplotlib.ticker as mticker\n",
    "from matplotlib.colors     import Normalize\n",
    "from cartopy.mpl.gridliner import LONGITUDE_FORMATTER, LATITUDE_FORMATTER\n",
    "\n",
    "fig = plt.figure(figsize = (10, 10))\n",
    "ax  = fig.add_subplot(1, 1, 1, projection = ccrs.PlateCarree())\n",
    "\n",
    "ax.plot(hamp_lon, hamp_lat, label = \"Halo\", lw = 3)\n",
    "ax.plot(rasta_lon, rasta_lat, label = \"Falcon\", lw = 3, ls = \"--\")\n",
    "ax.plot(ismar_lon, ismar_lat, lw = 3, ls = \":\", label = \"Faam\")\n",
    "\n",
    "gl = ax.gridlines(crs=ccrs.PlateCarree(), draw_labels=True,\n",
    "                  linewidth=1, color='black', linestyle='--')\n",
    "gl.xformatter = LONGITUDE_FORMATTER\n",
    "gl.yformatter = LATITUDE_FORMATTER\n",
    "\n",
    "ax.coastlines(resolution = \"50m\", linewidth = 1)\n",
    "\n",
    "norm = Normalize(vmin = 0, vmax = 500)\n",
    "ax.pcolormesh(dem_lon[::10], dem_lat[::100], dem_z[::100, ::10],\n",
    "              norm = norm,\n",
    "              cmap = \"terrain\")\n",
    "\n",
    "ax.set_xlim([-7.5, -5])\n",
    "ax.set_ylim([56, 60])\n",
    "ax.legend()\n",
    "\n",
    "fig.savefig(\"../plots/flight_path.png\")"
   ]
  },
  {
   "cell_type": "markdown",
   "metadata": {},
   "source": [
    "## Radar reflectivities"
   ]
  },
  {
   "cell_type": "code",
   "execution_count": null,
   "metadata": {
    "collapsed": true
   },
   "outputs": [],
   "source": [
    "from scipy.interpolate import RegularGridInterpolator\n",
    "f = RegularGridInterpolator((dem_lon, dem_lat[::-1]), dem_z.T[:, ::-1])\n",
    "hamp_surf  = f((hamp_lon,  hamp_lat)) / 1000.0\n",
    "rasta_surf = f((rasta_lon, rasta_lat)) / 1000.0"
   ]
  },
  {
   "cell_type": "code",
   "execution_count": null,
   "metadata": {
    "collapsed": true
   },
   "outputs": [],
   "source": [
    "from matplotlib.gridspec import GridSpec\n",
    "\n",
    "f  = plt.figure(figsize = (12, 8))\n",
    "gs = GridSpec(2, 2, width_ratios = [1, 0.01])\n",
    "\n",
    "ax = plt.subplot(gs[0, 0])\n",
    "img = ax.pcolormesh(hamp_d, hamp_z[:] / 1e3, hamp_dbz.T)\n",
    "f.colorbar(img, cax = plt.subplot(gs[0, 1]), label = \"Radar reflectivity [dBZ]\")\n",
    "for i in range(sonde_d.shape[0]):\n",
    "    ax.plot(sonde_d[i, :], sonde_z / 1e3, c = \"k\", ls = \":\", label = \"Radar reflectivity [dBZ]\")\n",
    "ax.set_title(\"HAMP RADAR\")\n",
    "ax.set_xlabel(\"Along track distance [km]\")\n",
    "ax.set_ylabel(\"Altitude [km]\")\n",
    "ax.set_ylim([0, 10])\n",
    "ax.set_xlim([0, 320])\n",
    "ax.plot(hamp_d.ravel(), hamp_surf.ravel(), c = \"grey\", lw = 3)\n",
    "\n",
    "ax = plt.subplot(gs[1, 0])\n",
    "ax.pcolormesh(np.broadcast_to(rasta_d.reshape(-1, 1), (rasta_z.shape)),\n",
    "                rasta_z, rasta_dbz[:, :])\n",
    "for i in range(sonde_d.shape[0]):\n",
    "    ax.plot(sonde_d[i, :], sonde_z / 1e3, c = \"k\", ls = \":\")\n",
    "f.colorbar(img, cax = plt.subplot(gs[1, 1]), label = \"Radar reflectivity [dBZ]\")\n",
    "ax.set_title(\"RASTA RADAR\")\n",
    "ax.set_xlabel(\"Along track distance [km]\")\n",
    "ax.set_ylabel(\"Altitude [km]\")\n",
    "ax.set_ylim([0, 10])\n",
    "ax.set_xlim([0, 320])\n",
    "ax.plot(rasta_d.ravel(), rasta_surf.ravel(), c = \"grey\", lw = 3)\n",
    "\n",
    "plt.tight_layout()\n",
    "\n",
    "fig.savefig(\"../plots/radar_reflectivities.png\")"
   ]
  },
  {
   "cell_type": "code",
   "execution_count": null,
   "metadata": {
    "collapsed": true
   },
   "outputs": [],
   "source": [
    "plt.plot(hamp_surf > 0.0)"
   ]
  },
  {
   "cell_type": "code",
   "execution_count": null,
   "metadata": {
    "collapsed": true
   },
   "outputs": [],
   "source": [
    "np.where(np.diff(hamp_surf > 0.0))"
   ]
  },
  {
   "cell_type": "markdown",
   "metadata": {},
   "source": [
    "### Regions without surface contamination\n",
    "\n",
    "- 0 - 520\n",
    "- 780 - 940\n",
    "- 1080 - 1160\n",
    "- 1220 - 1350"
   ]
  },
  {
   "cell_type": "markdown",
   "metadata": {},
   "source": [
    "## HAMP brighness temperatures"
   ]
  },
  {
   "cell_type": "code",
   "execution_count": null,
   "metadata": {
    "collapsed": true
   },
   "outputs": [],
   "source": [
    "bins = np.linspace(-20, 50, 101)\n",
    "plt.hist(rasta_dbz.ravel(), bins = bins)\n",
    "plt.xlim([-16, 50])"
   ]
  },
  {
   "cell_type": "code",
   "execution_count": null,
   "metadata": {
    "collapsed": true
   },
   "outputs": [],
   "source": [
    "from matplotlib.cm import Purples, Blues, Greens, Oranges, Reds, YlOrBr\n",
    "\n",
    "cms = [Purples, Blues, Greens, Oranges, Reds]"
   ]
  },
  {
   "cell_type": "code",
   "execution_count": null,
   "metadata": {
    "collapsed": true
   },
   "outputs": [],
   "source": [
    "plt.plot(hamp_d)"
   ]
  },
  {
   "cell_type": "code",
   "execution_count": null,
   "metadata": {
    "collapsed": true
   },
   "outputs": [],
   "source": [
    "np.where(hamp_d > 180), np.where(hamp_d < 210)"
   ]
  },
  {
   "cell_type": "code",
   "execution_count": null,
   "metadata": {
    "collapsed": true
   },
   "outputs": [],
   "source": [
    "from matplotlib.gridspec import GridSpec\n",
    "\n",
    "f  = plt.figure(figsize = (12, 12))\n",
    "gs = GridSpec(6, 1, width_ratios = [1])\n",
    "\n",
    "channel_names_hamp = [[\"22.24 GHz\", \"23.04 GHz\", \"23.84 GHz\", \"25.44 GHz\",   \\\n",
    "                   \"26.24 GHz\", \"27.84 GHz\", \"31.40 GHz\"],               \\\n",
    "                      [\"50.3 GHz\", \"51.76 GHz\", \"52.8 GHz\", \"53.75 GHz\", \"54.94 GHz\", \\\n",
    "                       \"56.66 Ghz\", \"58.00 GHz\"],\n",
    "                      [\"90.0 GHz\"],\n",
    "                      [\"118.75 ± 8.5 GHz\", \"118.75 ± 4.2 GHz\", \"118.75 ± 2.3 GHz\", \\\n",
    "                       \"118.75 ± 1.4 GHz\"][::-1], \n",
    "                      [\"183.31 ± 12.5 GHz\", \"183.31 ± 7.5 GHz\", \"183.31 ± 5.0 GHz\", \\\n",
    "                       \"183.31 ± 3.5 GHz\", \"183.31 ± 2.5 GHz\", \"183.31 ± 1.5 GHz\",  \\\n",
    "                       \"183.31 ± 0.6 GHz\"][::-1]]\n",
    "\n",
    "for i in range(5):\n",
    "    \n",
    "    cm = cms[i]\n",
    "    ncs = len([c for c in hamp_channels if c == i + 1])\n",
    "    cs = [cm(64 + i * 191 // (ncs + 1)) for i in range(ncs + 1)][1:]\n",
    "    \n",
    "    ax = plt.subplot(gs[i, 0])\n",
    "    \n",
    "    ci = 0\n",
    "    for j, c in enumerate(hamp_channels):\n",
    "        if i + 1 == c:\n",
    "            ax.plot(hamp_d, hamp_bt[:, j], c = cs[ci], label = channel_names_hamp[i][ci])\n",
    "            ci += 1\n",
    "            \n",
    "    ax.set_xlim([0, 320])\n",
    "    ax.set_ylabel(\"$T_B [K]$\")\n",
    "    \n",
    "    ax.legend(loc = \"center left\", bbox_to_anchor = [1.05, 0.5], ncol = 1)\n",
    "            \n",
    "ax = plt.subplot(gs[5, 0])\n",
    "ax.fill_between(hamp_d, y1 = hamp_surf, y2 = 0.0,  color = \"brown\")\n",
    "ax.fill_between(hamp_d, y1 = 0, y2 = -10,  color = \"blue\")\n",
    "ax.set_ylim([-0.1, 0.4])\n",
    "ax.set_xlim([0, 320])\n",
    "ax.set_xlabel(\"Along track distance [km]\")\n",
    "ax.set_ylabel(\"Surface elevation [km]\")\n",
    "\n",
    "\n",
    "plt.tight_layout()\n",
    "\n",
    "f.savefig(\"../plots/hamp_passive.png\", bbox_inches = \"tight\")"
   ]
  },
  {
   "cell_type": "markdown",
   "metadata": {},
   "source": [
    "## ISMAR brightness temperatures"
   ]
  },
  {
   "cell_type": "code",
   "execution_count": null,
   "metadata": {
    "collapsed": true
   },
   "outputs": [],
   "source": [
    "cms = [Purples, Blues, Greens, Oranges, Reds, YlOrBr]"
   ]
  },
  {
   "cell_type": "code",
   "execution_count": null,
   "metadata": {
    "collapsed": true
   },
   "outputs": [],
   "source": [
    "ismar_channels"
   ]
  },
  {
   "cell_type": "code",
   "execution_count": null,
   "metadata": {
    "collapsed": true
   },
   "outputs": [],
   "source": [
    "channel_names_ismar = [[\"118 ± 1.1 GHz\", \"118 ± 1.5 GHz\", \"118 ± 2.1 GHz\", \"118 ± 3.0 GHz\", \"118 ± 5.0 GHz\"],\n",
    "                       [\"243 GHz, H\", \"243 GHz, V\"],\n",
    "                       [\"325 ± 1.5 GHz\", \"325 ± 3.5 GHz\", \"325 ± 9.5 GHz\"],\n",
    "                       [\"425 GHz, a\", \"425 GHz, b\", \"425 GHz, c\", \"425 GHz, d\"],\n",
    "                       [\"448 ± 1.4 GHz\", \"448 ± 3.0 GHz\", \"448 ± 7.2 GHz\"],\n",
    "                       [\"664 GHz, H\", \"664 GHz, V\"]]"
   ]
  },
  {
   "cell_type": "code",
   "execution_count": null,
   "metadata": {
    "collapsed": true
   },
   "outputs": [],
   "source": [
    "ismar_channels_used = []\n",
    "for i, ns in enumerate(channel_names_ismar):\n",
    "    ismar_channels_used += [i + 1] * len(ns)\n",
    "    "
   ]
  },
  {
   "cell_type": "code",
   "execution_count": null,
   "metadata": {
    "collapsed": true
   },
   "outputs": [],
   "source": [
    "from matplotlib.gridspec import GridSpec\n",
    "\n",
    "f  = plt.figure(figsize = (12, 12))\n",
    "gs = GridSpec(7, 1, width_ratios = [1])\n",
    "\n",
    "channel_names_ismar = [[\"118 ± 1.1 GHz\", \"118 ± 1.5 GHz\", \"118 ± 2.1 GHz\", \"118 ± 3.0 GHz\", \"118 ± 5.0 GHz\"],\n",
    "                       [\"243 GHz, H\", \"243 GHz, V\"],\n",
    "                       [\"325 ± 1.5 GHz\", \"325 ± 3.5 GHz\", \"325 ± 9.5 GHz\"],\n",
    "                       [\"425 GHz, a\", \"425 GHz, b\", \"425 GHz, c\", \"425 GHz, d\"],\n",
    "                       [\"448 ± 1.4 GHz\", \"448 ± 3.0 GHz\", \"448 ± 7.2 GHz\"],\n",
    "                       [\"664 GHz, H\", \"664 GHz, V\"]]\n",
    "\n",
    "for i, j in enumerate(set(ismar_channels_used)):\n",
    "    cm = cms[i]\n",
    "    ncs = len([c for c in ismar_channels_used if c == j])\n",
    "    cs = [cm(64 + i * 191 // (ncs + 1)) for i in range(ncs + 1)][1:]\n",
    "    \n",
    "    ax = plt.subplot(gs[i, 0])\n",
    "    \n",
    "    ci = 0\n",
    "    y_min = 300.0\n",
    "    y_max = 280.0\n",
    "    for k, c in enumerate(ismar_channels_used):\n",
    "        if j == c:\n",
    "            ax.plot(ismar_d, ismar_tbs[:, k], c = cs[ci], label = channel_names_ismar[i][ci])\n",
    "            ci += 1\n",
    "            \n",
    "            y_max = min(280.0, ismar_tbs[:, k].max())\n",
    "            y_min = max(200.0, ismar_tbs[:, k].min())\n",
    "            \n",
    "    ax.set_xlim([0, 320])\n",
    "    \n",
    "    ax.set_ylim([y_min, y_max])\n",
    "    ax.set_ylabel(\"$T_B [K]$\")\n",
    "    \n",
    "    ax.legend(loc = \"center left\", bbox_to_anchor = [1.05, 0.5], ncol = 1)\n",
    "            \n",
    "ax = plt.subplot(gs[6, 0])\n",
    "ax.fill_between(hamp_d, y1 = hamp_surf, y2 = 0.0,  color = \"brown\")\n",
    "ax.fill_between(hamp_d, y1 = 0, y2 = -10,  color = \"blue\")\n",
    "ax.set_ylim([-0.1, 0.4])\n",
    "ax.set_xlim([0, 320])\n",
    "ax.set_xlabel(\"Along track distance [km]\")\n",
    "ax.set_ylabel(\"Surface elevation [km]\")\n",
    "\n",
    "f.savefig(\"../plots/ismar_passive.png\", bbox_inches = \"tight\")"
   ]
  },
  {
   "cell_type": "code",
   "execution_count": null,
   "metadata": {
    "collapsed": true
   },
   "outputs": [],
   "source": [
    "from matplotlib.gridspec import GridSpec\n",
    "\n",
    "f  = plt.figure(figsize = (12, 8))\n",
    "gs = GridSpec(3, 2, width_ratios = [1, 0.01], wspace = 0.1)\n",
    "\n",
    "cs = [\"navy\", \"darkorchid\", \"dodgerblue\", \"darkcyan\", \n",
    "      \"orange\", \"orangered\", \"firebrick\"]\n",
    "\n",
    "csd = 57\n",
    "csi = np.where(hamp_d > csd)[0][0]\n",
    "\n",
    "ax = plt.subplot(gs[0, 0])\n",
    "img = ax.pcolormesh(hamp_d, hamp_z[:] / 1e3, hamp_dbz.T)\n",
    "f.colorbar(img, cax = plt.subplot(gs[0, 1]), label = \"Radar reflectivity [dBZ]\")\n",
    "ax.axvline(x = hamp_d[csi], c = \"k\", ls = \"--\")\n",
    "ax.set_ylabel(\"Altitude [km]\")\n",
    "ax.set_ylim([0, 10])\n",
    "ax.set_xlim([0, 320])\n",
    "ax.plot(hamp_d.ravel(), hamp_surf.ravel(), c = \"k\", lw = 3)\n",
    "\n",
    "ax = plt.subplot(gs[1, 0])\n",
    "\n",
    "ci = 0\n",
    "channel_names = []\n",
    "for n in channel_names_hamp:\n",
    "    channel_names += n\n",
    "    \n",
    "handles = []\n",
    "labels  = []\n",
    "\n",
    "for j, i in enumerate(np.where(np.diff(hamp_channels))[0]):\n",
    "    \n",
    "    ax = plt.subplot(gs[1, 0])\n",
    "    mn = hamp_bt[csi, i]\n",
    "    handles += ax.plot(hamp_d, hamp_bt[:, i] - mn, c = cs[ci], label = channel_names[i])\n",
    "    labels  += [channel_names[i]]\n",
    "    ci += 1\n",
    "    ax.set_xlim([0, 320])\n",
    "    ax.set_ylim([-10, 130])\n",
    "    ax.set_ylabel(\"$\\Delta T_B [K]$\")\n",
    "    \n",
    "ax.axvline(x = hamp_d[csi], c = \"k\", ls = \"--\")\n",
    "ax = plt.subplot(gs[1, 1])\n",
    "ax.legend(handles = handles, labels = labels, loc = \"center left\")\n",
    "ax.set_axis_off()\n",
    "            \n",
    "channel_names = []\n",
    "for n in channel_names_ismar:\n",
    "    channel_names += n\n",
    "\n",
    "ax = plt.subplot(gs[2, 0])\n",
    "csi = np.where(ismar_d > csd)[0][0]\n",
    "    \n",
    "handles = []\n",
    "labels  = []\n",
    "\n",
    "for i, j in enumerate([6, 9, 18]):\n",
    "    first = True\n",
    "    \n",
    "    y_min = 300.0\n",
    "    y_max = 280.0\n",
    "    \n",
    "    mn = ismar_tbs[csi, j]\n",
    "    handles += ax.plot(ismar_d, ismar_tbs[:, j] - mn, c = cs[ci], label = channel_names[j])\n",
    "    labels  += [channel_names[j]]\n",
    "    ci += 1\n",
    "            \n",
    "    ax.set_xlim([0, 320])\n",
    "    ax.set_ylim([-30, 10])\n",
    "    ax.set_ylabel(\"$\\Delta T_B [K]$\")\n",
    "    \n",
    "ax.axvline(x = ismar_d[csi], c = \"k\", ls = \"--\")\n",
    "ax.set_xlabel(\"Along track distance [km]\")\n",
    "\n",
    "ax = plt.subplot(gs[2, 1])\n",
    "ax.legend(handles = handles, labels = labels, loc = \"center left\")\n",
    "ax.set_axis_off()\n",
    "\n",
    "plt.tight_layout()\n",
    "f.savefig(\"../plots/ici_frequencies.png\", bbox_inches = \"tight\")"
   ]
  },
  {
   "cell_type": "markdown",
   "metadata": {},
   "source": [
    "## Era 5 Data"
   ]
  },
  {
   "cell_type": "code",
   "execution_count": null,
   "metadata": {
    "collapsed": true
   },
   "outputs": [],
   "source": [
    "from netCDF4 import Dataset\n",
    "\n",
    "era_5      = Dataset(\"../data/era_5_surface.nc\", \"r\")\n",
    "era_5_lon  = era_5.variables[\"longitude\"][:]\n",
    "era_5_lat  = era_5.variables[\"latitude\"][:]\n",
    "era_5_u_10 = era_5.variables[\"u10\"][:]\n",
    "era_5_v_10 = era_5.variables[\"v10\"][:]\n",
    "era_5_sst  = era_5.variables[\"sst\"][:]\n",
    "era_5_skt  = era_5.variables[\"skt\"][:]"
   ]
  },
  {
   "cell_type": "code",
   "execution_count": null,
   "metadata": {
    "collapsed": true
   },
   "outputs": [],
   "source": [
    "f = RegularGridInterpolator((era_5_lon, era_5_lat[::-1]), era_5_u_10[0, ::-1, :].T)\n",
    "hamp_u_10 = f((hamp_lon + 360.0, hamp_lat))\n",
    "\n",
    "f = RegularGridInterpolator((era_5_lon, era_5_lat[::-1]), era_5_v_10[0, ::-1, :].T)\n",
    "hamp_v_10 = f((hamp_lon + 360.0, hamp_lat))\n",
    "\n",
    "f = RegularGridInterpolator((era_5_lon, era_5_lat[::-1]), era_5_sst[0, ::-1, :].T)\n",
    "hamp_sst = f((hamp_lon + 360.0, hamp_lat))\n",
    "\n",
    "f = RegularGridInterpolator((era_5_lon, era_5_lat[::-1]), era_5_skt[0, ::-1, :].T)\n",
    "hamp_skt = f((hamp_lon + 360.0, hamp_lat))"
   ]
  },
  {
   "cell_type": "code",
   "execution_count": null,
   "metadata": {
    "collapsed": true
   },
   "outputs": [],
   "source": [
    "from netCDF4 import Dataset\n",
    "\n",
    "era_5      = Dataset(\"../data/era_5.nc\", \"r\")\n",
    "era_5_lon  = era_5.variables[\"longitude\"][:]\n",
    "era_5_lat  = era_5.variables[\"latitude\"][:]\n",
    "era_5_z    = era_5.variables[\"z\"][:]\n",
    "era_5_p   = np.array(['1','2','3', '5','7','10', '20','30','50',\n",
    "                      '70','100','125', '150','175','200', '225',\n",
    "                      '250','300', '350','400','450', '500','550',\n",
    "                      '600', '650','700','750', '775','800','825',\n",
    "                      '850','875','900', '925','950','975', '1000'], dtype = np.float64)\n",
    "\n",
    "f = RegularGridInterpolator((era_5_p, era_5_lat[::-1], era_5_lon), era_5_z[0, :, ::-1, :])"
   ]
  },
  {
   "cell_type": "code",
   "execution_count": null,
   "metadata": {
    "collapsed": true
   },
   "outputs": [],
   "source": [
    "p = np.linspace(1000, sonde_p.min(), 501)\n",
    "pp, lat = np.meshgrid(p, hamp_lat)\n",
    "pp, lon = np.meshgrid(p, hamp_lon)\n",
    "z_interp = f((pp, lat, lon + 360))"
   ]
  },
  {
   "cell_type": "markdown",
   "metadata": {},
   "source": [
    "## Retrieval data"
   ]
  },
  {
   "cell_type": "markdown",
   "metadata": {},
   "source": [
    "We need to ensure that the pressure grid is decreasing."
   ]
  },
  {
   "cell_type": "code",
   "execution_count": null,
   "metadata": {
    "collapsed": true
   },
   "outputs": [],
   "source": [
    "from netCDF4 import Dataset\n",
    "ds = Dataset(\"../data/input.nc\", \"w\")"
   ]
  },
  {
   "cell_type": "code",
   "execution_count": null,
   "metadata": {
    "collapsed": true
   },
   "outputs": [],
   "source": [
    "z_ss  = 5\n",
    "z_ind = np.where(hamp_z > 12e3)[0][0]"
   ]
  },
  {
   "cell_type": "code",
   "execution_count": null,
   "metadata": {
    "collapsed": true
   },
   "outputs": [],
   "source": [
    "profile_index = ds.createDimension(\"profile_index\", hamp_d.size)\n",
    "altitude      = ds.createDimension(\"altitude\", hamp_z[:z_ind:z_ss].size)\n",
    "\n",
    "ds.createVariable(\"sea_surface_temperature\", \"f8\", dimensions = (\"profile_index\",))\n",
    "ds.createVariable(\"surface_temperature\", \"f8\", dimensions = (\"profile_index\",))\n",
    "ds.createVariable(\"wind_u\", \"f8\", dimensions = (\"profile_index\",))\n",
    "ds.createVariable(\"wind_v\", \"f8\", dimensions = (\"profile_index\",))\n",
    "ds.createVariable(\"pressure\", \"f8\", dimensions = (\"profile_index\", \"altitude\"))\n",
    "ds.createVariable(\"humidity\", \"f8\", dimensions = (\"profile_index\", \"altitude\"))\n",
    "ds.createVariable(\"H2O\", \"f8\", dimensions = (\"profile_index\", \"altitude\"))\n",
    "ds.createVariable(\"temperature\", \"f8\", dimensions = (\"profile_index\", \"altitude\"))"
   ]
  },
  {
   "cell_type": "code",
   "execution_count": null,
   "metadata": {
    "collapsed": true
   },
   "outputs": [],
   "source": [
    "ds.variables[\"sea_surface_temperature\"][:] = hamp_sst\n",
    "ds.variables[\"surface_temperature\"][:] = hamp_skt\n",
    "ds.variables[\"wind_u\"][:] = hamp_u_10\n",
    "ds.variables[\"wind_v\"][:] = hamp_v_10"
   ]
  },
  {
   "cell_type": "code",
   "execution_count": null,
   "metadata": {
    "collapsed": true
   },
   "outputs": [],
   "source": [
    "ds.createVariable(\"altitude\", \"f8\", (\"profile_index\", \"altitude\"))\n",
    "ds.variables[\"altitude\"][:] = np.broadcast_to(hamp_z.reshape(1, -1), hamp_dbz.shape)[:, :z_ind:z_ss]"
   ]
  },
  {
   "cell_type": "code",
   "execution_count": null,
   "metadata": {
    "collapsed": true
   },
   "outputs": [],
   "source": [
    "from typhon.physics.atmosphere import relative_humidity2vmr\n",
    "\n",
    "pressure = np.zeros((hamp_d.size, hamp_z.size))\n",
    "humidity = np.zeros((hamp_d.size, hamp_z.size))\n",
    "temperature = np.zeros((hamp_d.size, hamp_z.size))\n",
    "altitude = np.broadcast_to(hamp_z.reshape(1, -1), pressure.shape)\n",
    "\n",
    "#for i in range(hamp_z.size):\n",
    "pressure[:, :] = 100 * sonde_p[3, :] #np.interp(hamp_d, sonde_d[:, i], sonde_p[:, i])\n",
    "humidity[:, :] = sonde_rh[3, :] / 100 #np.interp(hamp_d, sonde_d[:, i], sonde_rh[:, i])\n",
    "temperature[:, :] = sonde_t[3, :] #np.interp(hamp_d, sonde_d[:, i], sonde_t[:, i])\n",
    "\n",
    "dp = np.diff(pressure, axis = 1)\n",
    "for i in range(dp.shape[1]):\n",
    "    if np.any(dp[:, i] == 0):\n",
    "        pressure[:, i] -= 0.5 * dp[:, i - 1]\n",
    "        pressure[:, i + 1] += 0.5 * dp[:, i - 1]\n",
    "    \n",
    "ds.variables[\"pressure\"][:, :] = pressure[:, :z_ind:z_ss]\n",
    "ds.variables[\"humidity\"][:, :] = humidity[:, :z_ind:z_ss]\n",
    "ds.variables[\"H2O\"][:, :] = relative_humidity2vmr(humidity, pressure, temperature)[:, :z_ind:z_ss]\n",
    "ds.variables[\"temperature\"][:, :] = temperature[:, :z_ind:z_ss]"
   ]
  },
  {
   "cell_type": "code",
   "execution_count": null,
   "metadata": {
    "collapsed": true
   },
   "outputs": [],
   "source": [
    "ds.createVariable(\"O2\", \"f8\", dimensions = (\"profile_index\", \"altitude\"))\n",
    "ds.createVariable(\"O3\", \"f8\", dimensions = (\"profile_index\", \"altitude\"))\n",
    "ds.createVariable(\"N2\", \"f8\", dimensions = (\"profile_index\", \"altitude\"))"
   ]
  },
  {
   "cell_type": "code",
   "execution_count": null,
   "metadata": {
    "collapsed": true
   },
   "outputs": [],
   "source": [
    "z_b = np.array([119.26605505,  2118.57516973,   4027.60345297,   5862.87711004,\n",
    "             7627.64498975,  9297.02869728,  10892.59889357,  12434.63769365,\n",
    "             13904.25695207, 15290.83137241,  16635.83815029,  17963.99841403,\n",
    "             19346.95698534, 20750.73842791,  22184.62422791,  23675.44467966,\n",
    "             25180.02964216, 26780.47609985,  28320.01292605,  29820.7853969 ,\n",
    "             31494.56521739])\n",
    "o2  = np.array([ 0.20914768,  0.20917247,  0.20911265,  0.20919441,  0.20921843,\n",
    "              0.20915963,  0.20914215,  0.20918673,  0.20921144,  0.20916823,\n",
    "              0.20915074,  0.20918311,  0.20910791,  0.20914558,  0.20908499,\n",
    "              0.20913025,  0.20910134,  0.20907593,  0.20910521,  0.2091797 ,\n",
    "              0.20917443])\n",
    "o2 = np.interp(hamp_z, z_b, o2)\n",
    "ds.variables[\"O2\"][:, :] = np.broadcast_to(o2.reshape(1, -1), hamp_dbz.shape)[:, :z_ind:z_ss]\n",
    "\n",
    "o3  = np.array([2.90479819e-08,   3.36389220e-08,   3.56864241e-08,\n",
    "                3.96190027e-08,   4.38274934e-08,   5.18099738e-08,\n",
    "                6.50830255e-08,   8.46137019e-08,   1.03927382e-07,\n",
    "                1.31159885e-07,   2.11682715e-07,   4.91257992e-07,\n",
    "                1.10672315e-06,   1.70139678e-06,   2.58579126e-06,\n",
    "                4.01127013e-06,   5.57665027e-06,   7.11467740e-06,\n",
    "                8.29916685e-06,   9.20149730e-06,   9.63690492e-06])\n",
    "o3 = np.interp(hamp_z, z_b, o3)\n",
    "ds.variables[\"O3\"][:, :] = np.broadcast_to(o3.reshape(1, -1), hamp_dbz.shape)[:, :z_ind:z_ss]\n",
    "\n",
    "n2 = np.array([0.78143085,  0.78164177,  0.78123672,  0.78189026,  0.78169185,\n",
    "               0.78155673,  0.78151964,  0.78156695,  0.78156223,  0.78157601,\n",
    "               0.78164542,  0.78170006,  0.78154427,  0.78127151,  0.78165497,\n",
    "               0.78161547,  0.7815775 ,  0.78152597,  0.78153412,  0.78159145,\n",
    "               0.78158467])\n",
    "n2 = np.interp(hamp_z, z_b, n2)\n",
    "ds.variables[\"N2\"][:, :] = np.broadcast_to(n2.reshape(1, -1), hamp_dbz.shape)[:, :z_ind:z_ss]"
   ]
  },
  {
   "cell_type": "markdown",
   "metadata": {},
   "source": [
    "\n",
    "### Hamp radar"
   ]
  },
  {
   "cell_type": "code",
   "execution_count": null,
   "metadata": {
    "collapsed": true
   },
   "outputs": [],
   "source": [
    "y = np.maximum(hamp_dbz.data, -30)\n",
    "dz = hamp_z - np.maximum(hamp_surf.reshape(-1, 1) * 1000, 0.0)\n",
    "y[dz < 250] = -30\n",
    "#plt.pcolor(y.T)"
   ]
  },
  {
   "cell_type": "code",
   "execution_count": null,
   "metadata": {
    "collapsed": true
   },
   "outputs": [],
   "source": [
    "ds.createVariable(\"y_hamp_radar\", \"f8\", dimensions = (\"profile_index\", \"altitude\"))\n",
    "ds.variables[\"y_hamp_radar\"][:, :] = y[:, :z_ind:z_ss]"
   ]
  },
  {
   "cell_type": "markdown",
   "metadata": {},
   "source": [
    "### Hamp radiometer"
   ]
  },
  {
   "cell_type": "code",
   "execution_count": null,
   "metadata": {
    "collapsed": true
   },
   "outputs": [],
   "source": [
    "ds.createDimension(\"hamp_channels\", size = 26)\n",
    "ds.createVariable(\"y_hamp_passive\", \"f8\", dimensions = (\"profile_index\", \"hamp_channels\"))"
   ]
  },
  {
   "cell_type": "code",
   "execution_count": null,
   "metadata": {
    "collapsed": true
   },
   "outputs": [],
   "source": [
    "hamp_bt[22, :]"
   ]
  },
  {
   "cell_type": "code",
   "execution_count": null,
   "metadata": {
    "collapsed": true
   },
   "outputs": [],
   "source": [
    "ds.variables[\"y_hamp_passive\"][:, :] = hamp_bt"
   ]
  },
  {
   "cell_type": "markdown",
   "metadata": {},
   "source": [
    "## Rasta radar"
   ]
  },
  {
   "cell_type": "code",
   "execution_count": null,
   "metadata": {
    "collapsed": true
   },
   "outputs": [],
   "source": [
    "y_rasta = -16 * np.ones(rasta_dbz.shape)\n",
    "inds    = np.logical_not(rasta_dbz.mask)\n",
    "y_rasta[inds] = np.maximum(rasta_dbz[inds], -16)\n",
    "for i in range(rasta_dbz.shape[0]):\n",
    "    inds = 0.2 > rasta_z[i, :] - np.maximum(rasta_surf[i], 0.0)\n",
    "    y_rasta[i, inds] = -16\n",
    "y_rasta[:, 200:] = -16"
   ]
  },
  {
   "cell_type": "code",
   "execution_count": null,
   "metadata": {
    "collapsed": true
   },
   "outputs": [],
   "source": [
    "def center_to_edges(z):\n",
    "    range_bins = np.zeros(z.size + 1)\n",
    "    range_bins[1:-1] = 0.5 * (z[1:] + z[:-1])\n",
    "    range_bins[0]  = 2 * range_bins[1] - range_bins[2]\n",
    "    range_bins[-1] = 2 * z[-1] - z[-2]\n",
    "    return range_bins"
   ]
  },
  {
   "cell_type": "code",
   "execution_count": null,
   "metadata": {
    "collapsed": true
   },
   "outputs": [],
   "source": []
  },
  {
   "cell_type": "code",
   "execution_count": null,
   "metadata": {
    "collapsed": true
   },
   "outputs": [],
   "source": [
    "rasta_range_bins = np.zeros((rasta_z.shape[0], rasta_z.shape[1] + 1))\n",
    "for i in range(rasta_z.shape[0]):\n",
    "    z = center_to_edges(rasta_z[i, :])\n",
    "    rasta_range_bins[i, :] = z\n",
    "    \n",
    "y_rasta_i = np.zeros((hamp_d.size, rasta_z.shape[1]))\n",
    "rasta_range_bins_i = np.zeros((hamp_d.size, rasta_z.shape[1] + 1))\n",
    "for i in range(rasta_z.shape[1]):\n",
    "    y_rasta_i[:, i]    = np.interp(hamp_d, rasta_d, y_rasta[:, i])\n",
    "    rasta_range_bins_i[:, i] = np.interp(hamp_d, rasta_d, rasta_range_bins[:, i])"
   ]
  },
  {
   "cell_type": "code",
   "execution_count": null,
   "metadata": {
    "collapsed": true
   },
   "outputs": [],
   "source": [
    "ds.createDimension(\"rasta_range_bins\", y_rasta_i[:, ::z_ss].shape[1] + 1)\n",
    "ds.createVariable(\"rasta_range_bins\", \"f8\", (\"profile_index\", \"rasta_range_bins\",))\n",
    "ds.variables[\"rasta_range_bins\"][:, :] = rasta_range_bins_i[:, ::z_ss]"
   ]
  },
  {
   "cell_type": "code",
   "execution_count": null,
   "metadata": {
    "collapsed": true
   },
   "outputs": [],
   "source": [
    "ds.createDimension(\"rasta_gates\", y_rasta_i[:, ::z_ss].shape[1])\n",
    "ds.createVariable(\"y_rasta\", \"f8\", dimensions = (\"profile_index\", \"rasta_gates\"))\n",
    "ds.variables[\"y_rasta\"][:, :] = y_rasta_i[:, ::z_ss]"
   ]
  },
  {
   "cell_type": "markdown",
   "metadata": {},
   "source": [
    "### ISMAR radiometer"
   ]
  },
  {
   "cell_type": "code",
   "execution_count": null,
   "metadata": {
    "collapsed": true
   },
   "outputs": [],
   "source": [
    "ismar_tbs_i = np.zeros((hamp_d.size, 21))\n",
    "ismar_nedt_i = np.zeros((hamp_d.size, 21))\n",
    "for i in range(21):\n",
    "    ismar_tbs_i[:, i] = np.interp(hamp_d, ismar_d, ismar_tbs[:, i])\n",
    "    ismar_nedt_i[:, i] = np.interp(hamp_d, ismar_d, ismar_nedt[:, i])"
   ]
  },
  {
   "cell_type": "markdown",
   "metadata": {},
   "source": [
    "For the ISMAR radiomenter not all channels contain useful information. For the retrieval\n",
    "only the following channels will be used:\n",
    "\n",
    "| Frequency [GHz] | Number of channels| Original channel indices  |\n",
    "|-----------------|-------------------|---------------------------|\n",
    "| 118             |         5         |            0, 1, 2, 3, 4  |\n",
    "| 243             |         1         |            mean of 5, 6   |\n",
    "| 325             |         3         |                 7, 8, 9   |\n",
    "| 664             |         1         |                 10        |\n"
   ]
  },
  {
   "cell_type": "code",
   "execution_count": null,
   "metadata": {
    "collapsed": true
   },
   "outputs": [],
   "source": [
    "y_ismar = np.zeros((hamp_d.size, 10))\n",
    "y_ismar_nedt = np.zeros((hamp_d.size, 10))\n",
    "\n",
    "# 118 GHz\n",
    "y_ismar[:, :5] = ismar_tbs_i[:, :5]\n",
    "y_ismar_nedt[:, :5] = ismar_nedt_i[:, :5]\n",
    "\n",
    "# 243 GHz\n",
    "y_ismar[:, 5] = np.mean(ismar_tbs_i[:, 5 : 7], axis = 1)\n",
    "y_ismar_nedt[:, 5] = np.sqrt(np.sum(ismar_nedt_i[:, 5 : 7] ** 2, axis = 1) / 2.0)\n",
    "\n",
    "# 325 GHz\n",
    "y_ismar[:, 6 : 9] = ismar_tbs_i[:, 7 : 10]\n",
    "y_ismar_nedt[:, 6 : 9] = ismar_nedt_i[:, 7 : 10]\n",
    "\n",
    "# 664 GHz\n",
    "y_ismar[:, 9] = ismar_tbs_i[:, 10]\n",
    "y_ismar_nedt[:, 9] = ismar_nedt_i[:, 10]"
   ]
  },
  {
   "cell_type": "code",
   "execution_count": null,
   "metadata": {
    "collapsed": true
   },
   "outputs": [],
   "source": [
    "ismar_nedt_i.shape"
   ]
  },
  {
   "cell_type": "code",
   "execution_count": null,
   "metadata": {
    "collapsed": true
   },
   "outputs": [],
   "source": [
    "plt.plot(ismar_nedt_i[:, -4])"
   ]
  },
  {
   "cell_type": "code",
   "execution_count": null,
   "metadata": {
    "collapsed": true
   },
   "outputs": [],
   "source": [
    "ds.createDimension(\"ismar_channels\", size = 10)\n",
    "ds.createVariable(\"y_ismar\", \"f8\", dimensions = (\"profile_index\", \"ismar_channels\"))\n",
    "ds.createVariable(\"y_ismar_nedt\", \"f8\", dimensions = (\"profile_index\", \"ismar_channels\"))\n",
    "ds[\"y_ismar\"][:] = y_ismar\n",
    "ds[\"y_ismar_nedt\"][:] = y_ismar_nedt"
   ]
  },
  {
   "cell_type": "code",
   "execution_count": null,
   "metadata": {
    "collapsed": true
   },
   "outputs": [],
   "source": [
    "ds.close()"
   ]
  }
 ],
 "metadata": {
  "kernelspec": {
   "display_name": "Python 3",
   "language": "python",
   "name": "python3"
  },
  "language_info": {
   "codemirror_mode": {
    "name": "ipython",
    "version": 3
   },
   "file_extension": ".py",
   "mimetype": "text/x-python",
   "name": "python",
   "nbconvert_exporter": "python",
   "pygments_lexer": "ipython3",
   "version": "3.7.4"
  }
 },
 "nbformat": 4,
 "nbformat_minor": 2
}
