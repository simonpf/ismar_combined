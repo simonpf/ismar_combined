{
 "cells": [
  {
   "cell_type": "markdown",
   "metadata": {},
   "source": [
    "# Preprocessing\n",
    "\n",
    "This notebook contains the preprocessing required to generate the input data for the retrieval."
   ]
  },
  {
   "cell_type": "code",
   "execution_count": 1,
   "metadata": {
    "scrolled": true
   },
   "outputs": [
    {
     "name": "stdout",
     "output_type": "stream",
     "text": [
      "No environment variable JOINT_FLIGHT_PATH found. Will look in /home/simonpf/src/joint_flight  for the joint flight data.\n"
     ]
    },
    {
     "ename": "AttributeError",
     "evalue": "module 'geopy.distance' has no attribute 'vincenty'",
     "output_type": "error",
     "traceback": [
      "\u001b[0;31m---------------------------------------------------------------------------\u001b[0m",
      "\u001b[0;31mAttributeError\u001b[0m                            Traceback (most recent call last)",
      "\u001b[0;32m<ipython-input-1-aa4da763b622>\u001b[0m in \u001b[0;36m<module>\u001b[0;34m\u001b[0m\n\u001b[1;32m      2\u001b[0m \u001b[0;32mfrom\u001b[0m \u001b[0mnetCDF4\u001b[0m \u001b[0;32mimport\u001b[0m \u001b[0mDataset\u001b[0m\u001b[0;34m\u001b[0m\u001b[0;34m\u001b[0m\u001b[0m\n\u001b[1;32m      3\u001b[0m \u001b[0;32mimport\u001b[0m \u001b[0mglob\u001b[0m\u001b[0;34m\u001b[0m\u001b[0;34m\u001b[0m\u001b[0m\n\u001b[0;32m----> 4\u001b[0;31m \u001b[0;32mfrom\u001b[0m \u001b[0mjoint_flight\u001b[0m\u001b[0;34m.\u001b[0m\u001b[0mdata\u001b[0m \u001b[0;32mimport\u001b[0m \u001b[0mhamp\u001b[0m\u001b[0;34m,\u001b[0m \u001b[0mismar\u001b[0m\u001b[0;34m,\u001b[0m \u001b[0mera5\u001b[0m\u001b[0;34m,\u001b[0m \u001b[0mrasta\u001b[0m\u001b[0;34m\u001b[0m\u001b[0;34m\u001b[0m\u001b[0m\n\u001b[0m",
      "\u001b[0;32m~/src/joint_flight/joint_flight/data/rasta.py\u001b[0m in \u001b[0;36m<module>\u001b[0;34m\u001b[0m\n\u001b[1;32m     51\u001b[0m \u001b[0md\u001b[0m \u001b[0;34m=\u001b[0m \u001b[0mnp\u001b[0m\u001b[0;34m.\u001b[0m\u001b[0mzeros\u001b[0m\u001b[0;34m(\u001b[0m\u001b[0mlat\u001b[0m\u001b[0;34m.\u001b[0m\u001b[0mshape\u001b[0m\u001b[0;34m)\u001b[0m\u001b[0;34m\u001b[0m\u001b[0;34m\u001b[0m\u001b[0m\n\u001b[1;32m     52\u001b[0m \u001b[0;32mfor\u001b[0m \u001b[0mi\u001b[0m \u001b[0;32min\u001b[0m \u001b[0mrange\u001b[0m\u001b[0;34m(\u001b[0m\u001b[0md\u001b[0m\u001b[0;34m.\u001b[0m\u001b[0msize\u001b[0m\u001b[0;34m)\u001b[0m\u001b[0;34m:\u001b[0m\u001b[0;34m\u001b[0m\u001b[0;34m\u001b[0m\u001b[0m\n\u001b[0;32m---> 53\u001b[0;31m     \u001b[0md\u001b[0m\u001b[0;34m[\u001b[0m\u001b[0mi\u001b[0m\u001b[0;34m]\u001b[0m \u001b[0;34m=\u001b[0m \u001b[0mdist\u001b[0m\u001b[0;34m.\u001b[0m\u001b[0mvincenty\u001b[0m\u001b[0;34m(\u001b[0m\u001b[0;34m(\u001b[0m\u001b[0mlat_r\u001b[0m\u001b[0;34m,\u001b[0m \u001b[0mlon_r\u001b[0m\u001b[0;34m)\u001b[0m\u001b[0;34m,\u001b[0m \u001b[0;34m(\u001b[0m\u001b[0mlat\u001b[0m\u001b[0;34m[\u001b[0m\u001b[0mi\u001b[0m\u001b[0;34m]\u001b[0m\u001b[0;34m,\u001b[0m \u001b[0mlon\u001b[0m\u001b[0;34m[\u001b[0m\u001b[0mi\u001b[0m\u001b[0;34m]\u001b[0m\u001b[0;34m)\u001b[0m\u001b[0;34m)\u001b[0m\u001b[0;34m.\u001b[0m\u001b[0mkm\u001b[0m\u001b[0;34m\u001b[0m\u001b[0;34m\u001b[0m\u001b[0m\n\u001b[0m\u001b[1;32m     54\u001b[0m \u001b[0;34m\u001b[0m\u001b[0m\n\u001b[1;32m     55\u001b[0m \u001b[0mi_start\u001b[0m \u001b[0;34m=\u001b[0m \u001b[0mnp\u001b[0m\u001b[0;34m.\u001b[0m\u001b[0mwhere\u001b[0m\u001b[0;34m(\u001b[0m\u001b[0mrasta_times\u001b[0m \u001b[0;34m>=\u001b[0m \u001b[0mt_start\u001b[0m \u001b[0;34m-\u001b[0m \u001b[0;36m0.5\u001b[0m\u001b[0;34m)\u001b[0m\u001b[0;34m[\u001b[0m\u001b[0;36m0\u001b[0m\u001b[0;34m]\u001b[0m\u001b[0;34m[\u001b[0m\u001b[0;36m0\u001b[0m\u001b[0;34m]\u001b[0m\u001b[0;34m\u001b[0m\u001b[0;34m\u001b[0m\u001b[0m\n",
      "\u001b[0;31mAttributeError\u001b[0m: module 'geopy.distance' has no attribute 'vincenty'"
     ]
    }
   ],
   "source": [
    "import numpy as np\n",
    "from netCDF4 import Dataset\n",
    "import glob\n",
    "from joint_flight.data import hamp, ismar, era5, rasta"
   ]
  },
  {
   "cell_type": "code",
   "execution_count": null,
   "metadata": {},
   "outputs": [],
   "source": [
    "%rm ../data/input.nc"
   ]
  },
  {
   "cell_type": "code",
   "execution_count": null,
   "metadata": {},
   "outputs": [],
   "source": [
    "from netCDF4 import Dataset\n",
    "raw = True\n",
    "if raw:\n",
    "    ds = Dataset(\"../data/input_raw.nc\", \"w\")\n",
    "else:\n",
    "    ds = Dataset(\"../data/input.nc\", \"w\")"
   ]
  },
  {
   "cell_type": "code",
   "execution_count": null,
   "metadata": {},
   "outputs": [],
   "source": [
    "z_ss  = 4\n",
    "z_ind = np.where(hamp.z > 12e3)[0][0]"
   ]
  },
  {
   "cell_type": "markdown",
   "metadata": {},
   "source": [
    "## Input data structure\n",
    "\n",
    "All relevant input data for the forward simulations is stored as variables of the same name in a NetCDF4 file. Using the `parts` package these can read in directly without further plumbing."
   ]
  },
  {
   "cell_type": "code",
   "execution_count": null,
   "metadata": {},
   "outputs": [],
   "source": [
    "z = np.linspace(0, 12e3, 61)\n",
    "profile_index = ds.createDimension(\"profile_index\", hamp.d.size)\n",
    "altitude      = ds.createDimension(\"altitude\", z.size)\n",
    "\n",
    "ds.createVariable(\"sea_surface_temperature\", \"f8\", dimensions = (\"profile_index\",))\n",
    "ds.createVariable(\"surface_temperature\", \"f8\", dimensions = (\"profile_index\",))\n",
    "ds.createVariable(\"wind_u\", \"f8\", dimensions = (\"profile_index\",))\n",
    "ds.createVariable(\"wind_v\", \"f8\", dimensions = (\"profile_index\",))\n",
    "ds.createVariable(\"surface_wind_speed\", \"f8\", dimensions = (\"profile_index\",))\n",
    "ds.createVariable(\"pressure\", \"f8\", dimensions = (\"profile_index\", \"altitude\"))\n",
    "ds.createVariable(\"humidity\", \"f8\", dimensions = (\"profile_index\", \"altitude\"))\n",
    "ds.createVariable(\"H2O\", \"f8\", dimensions = (\"profile_index\", \"altitude\"))\n",
    "ds.createVariable(\"temperature\", \"f8\", dimensions = (\"profile_index\", \"altitude\"))\n",
    "ds.createVariable(\"altitude\", \"f8\", (\"profile_index\", \"altitude\"))"
   ]
  },
  {
   "cell_type": "markdown",
   "metadata": {},
   "source": [
    "## Surface data\n",
    "\n",
    "The surface data is taken from ERA5."
   ]
  },
  {
   "cell_type": "code",
   "execution_count": null,
   "metadata": {},
   "outputs": [],
   "source": [
    "era5.v_10"
   ]
  },
  {
   "cell_type": "code",
   "execution_count": null,
   "metadata": {},
   "outputs": [],
   "source": [
    "ds.variables[\"sea_surface_temperature\"][:] = era5.sst\n",
    "ds.variables[\"surface_temperature\"][:] = era5.skt\n",
    "ds.variables[\"wind_u\"][:] = era5.u_10\n",
    "ds.variables[\"wind_v\"][:] = era5.v_10\n",
    "ds.variables[\"surface_wind_speed\"][:] = np.sqrt(era5.u_10 ** 2 + era5.v_10 ** 2)"
   ]
  },
  {
   "cell_type": "code",
   "execution_count": null,
   "metadata": {},
   "outputs": [],
   "source": [
    "ds.variables[\"altitude\"][:] = np.broadcast_to(z[np.newaxis, :], (hamp.d.size, z.size))"
   ]
  },
  {
   "cell_type": "code",
   "execution_count": null,
   "metadata": {},
   "outputs": [],
   "source": [
    "from typhon.physics.atmosphere import relative_humidity2vmr\n",
    "ds.variables[\"pressure\"][:, :] = era5.p\n",
    "ds.variables[\"humidity\"][:, :] = era5.h2o\n",
    "ds.variables[\"H2O\"][:, :] = era5.rh\n",
    "ds.variables[\"temperature\"][:, :] = era5.t"
   ]
  },
  {
   "cell_type": "code",
   "execution_count": null,
   "metadata": {},
   "outputs": [],
   "source": [
    "ds.createVariable(\"O2\", \"f8\", dimensions = (\"profile_index\", \"altitude\"))\n",
    "ds.createVariable(\"O3\", \"f8\", dimensions = (\"profile_index\", \"altitude\"))\n",
    "ds.createVariable(\"N2\", \"f8\", dimensions = (\"profile_index\", \"altitude\"))"
   ]
  },
  {
   "cell_type": "code",
   "execution_count": null,
   "metadata": {},
   "outputs": [],
   "source": [
    "z_b = np.array([119.26605505,  2118.57516973,   4027.60345297,   5862.87711004,\n",
    "             7627.64498975,  9297.02869728,  10892.59889357,  12434.63769365,\n",
    "             13904.25695207, 15290.83137241,  16635.83815029,  17963.99841403,\n",
    "             19346.95698534, 20750.73842791,  22184.62422791,  23675.44467966,\n",
    "             25180.02964216, 26780.47609985,  28320.01292605,  29820.7853969 ,\n",
    "             31494.56521739])\n",
    "o2  = np.array([ 0.20914768,  0.20917247,  0.20911265,  0.20919441,  0.20921843,\n",
    "              0.20915963,  0.20914215,  0.20918673,  0.20921144,  0.20916823,\n",
    "              0.20915074,  0.20918311,  0.20910791,  0.20914558,  0.20908499,\n",
    "              0.20913025,  0.20910134,  0.20907593,  0.20910521,  0.2091797 ,\n",
    "              0.20917443])\n",
    "o2 = np.interp(z, z_b, o2)\n",
    "ds.variables[\"O2\"][:, :] = np.broadcast_to(o2[np.newaxis, :], (hamp.d.size, z.size))\n",
    "\n",
    "o3  = np.array([2.90479819e-08,   3.36389220e-08,   3.56864241e-08,\n",
    "                3.96190027e-08,   4.38274934e-08,   5.18099738e-08,\n",
    "                6.50830255e-08,   8.46137019e-08,   1.03927382e-07,\n",
    "                1.31159885e-07,   2.11682715e-07,   4.91257992e-07,\n",
    "                1.10672315e-06,   1.70139678e-06,   2.58579126e-06,\n",
    "                4.01127013e-06,   5.57665027e-06,   7.11467740e-06,\n",
    "                8.29916685e-06,   9.20149730e-06,   9.63690492e-06])\n",
    "o3 = np.interp(z, z_b, o3)\n",
    "ds.variables[\"O3\"][:, :] = np.broadcast_to(o3[np.newaxis, :], (hamp.d.size, z.size))\n",
    "\n",
    "n2 = np.array([0.78143085,  0.78164177,  0.78123672,  0.78189026,  0.78169185,\n",
    "               0.78155673,  0.78151964,  0.78156695,  0.78156223,  0.78157601,\n",
    "               0.78164542,  0.78170006,  0.78154427,  0.78127151,  0.78165497,\n",
    "               0.78161547,  0.7815775 ,  0.78152597,  0.78153412,  0.78159145,\n",
    "               0.78158467])\n",
    "n2 = np.interp(z, z_b, n2)\n",
    "ds.variables[\"N2\"][:, :] = np.broadcast_to(n2[np.newaxis, :], (hamp.d.size, z.size))"
   ]
  },
  {
   "cell_type": "markdown",
   "metadata": {},
   "source": [
    "### Hamp radar\n",
    "\n",
    "The HAMP radar reflectivities are averaged to a resolution of 120 meters. Ground clutter and the reflection of the FAAM aircraft are removed."
   ]
  },
  {
   "cell_type": "code",
   "execution_count": null,
   "metadata": {},
   "outputs": [],
   "source": [
    "%matplotlib inline\n",
    "import matplotlib.pyplot as plt\n",
    "plt.pcolormesh(hamp.dbz[600:800, :100].T)"
   ]
  },
  {
   "cell_type": "code",
   "execution_count": null,
   "metadata": {},
   "outputs": [],
   "source": [
    "plt.pcolormesh(hamp.dbz[500 : 550, 200:].T)"
   ]
  },
  {
   "cell_type": "code",
   "execution_count": null,
   "metadata": {},
   "outputs": [],
   "source": [
    "from mcrf.sensors import hamp_radar\n",
    "\n",
    "# Fill gaps\n",
    "dbz = np.copy(hamp.dbz)\n",
    "gaps = np.where(np.all(hamp.dbz.mask, axis = 1))\n",
    "for i_g in gaps:\n",
    "    dbz[i_g, :] = 0.5 * (dbz[i_g - 1, :] + dbz[i_g + 1, :])\n",
    "    \n",
    "yz = 10 ** (dbz / 10)\n",
    "yz.shape\n",
    "yz_z = np.broadcast_to(hamp.z.reshape(1, -1), yz.shape)\n",
    "bins = hamp_radar.range_bins\n",
    "\n",
    "yz_r = np.zeros((yz.shape[0], hamp_radar.range_bins.size - 1))\n",
    "for i in range(yz.shape[0]):\n",
    "    y = yz[i, :]\n",
    "    z = hamp.z\n",
    "    cts, _ = np.histogram(z, bins=bins)\n",
    "    yt, _ = np.histogram(z, weights=y, bins=bins)\n",
    "    yz_r[i, cts == 0.0] = -30.0\n",
    "    yz_r[i, :] = np.maximum(10.0 * np.log10(yt / cts), -30.0)\n",
    "    \n",
    "dz = bins[:-1].reshape(1, -1) - np.maximum(hamp.zs.reshape(-1, 1), 0.0)\n",
    "\n",
    "\n",
    "\n",
    "z = 0.5 * (bins[1:] + bins[:-1])\n",
    "yz_r_z = np.broadcast_to(z.reshape(1, -1), yz_r.shape)\n",
    "\n",
    "# Interpolate times to hamp path\n",
    "t_falcon = np.interp(hamp.d, rasta.d, rasta.time)\n",
    "i_falcon = np.argmin(np.abs(t_falcon - hamp.time))\n",
    "z_falcon = np.interp(hamp.d, rasta.d, rasta.altitude)\n",
    "j_falcon = np.argmin(np.abs(z - z_falcon[i_falcon]))\n",
    "\n",
    "t_faam = np.interp(hamp.d, ismar.d, ismar.time)\n",
    "i_faam = np.argmin(np.abs(t_faam - hamp.time))\n",
    "z_faam = np.interp(hamp.d, ismar.d, ismar.altitude)\n",
    "j_faam = np.argmin(np.abs(z - z_faam[i_falcon]))\n",
    "\n",
    "\n",
    "# Remove ground clutter\n",
    "for i in range(yz_r.shape[0]):\n",
    "    ind = np.where(dz[i, :] > 250)[0][0]\n",
    "    yz_r[i, dz[i, :] < 250] = yz_r[i, ind]\n",
    "\n",
    "nedt = np.zeros(yz_r.shape)\n",
    "nedt[dz < 250] = 2\n",
    "\n",
    "i_start = i_faam - 20\n",
    "i_end = i_faam + 20\n",
    "j_start = j_faam - 2\n",
    "j_end = j_faam + 2\n",
    "if not raw:\n",
    "    yz_r[i_start : i_end, j_start : j_end] = -30\n",
    "nedt[i_start : i_end, j_start : j_end] = 1e12\n",
    "\n",
    "\n",
    "i_start = i_falcon - 20 \n",
    "i_end = i_falcon + 20 \n",
    "j_start = j_falcon - 2\n",
    "j_end = j_falcon + 2\n",
    "if not raw:\n",
    "    yz_r[i_start : i_end, j_start : j_end] = -30\n",
    "nedt[i_start : i_end, j_start : j_end] = 1e12\n",
    "\n",
    "print(i_faam, j_faam)\n",
    "print(i_falcon, j_falcon)"
   ]
  },
  {
   "cell_type": "code",
   "execution_count": null,
   "metadata": {},
   "outputs": [],
   "source": [
    "dz.shape"
   ]
  },
  {
   "cell_type": "code",
   "execution_count": null,
   "metadata": {},
   "outputs": [],
   "source": [
    "ds.createDimension(\"y_hamp_radar_bins\", size = hamp_radar.range_bins.size - 1)\n",
    "ds.createVariable(\"y_hamp_radar\", \"f8\", dimensions = (\"profile_index\", \"y_hamp_radar_bins\"))\n",
    "ds.variables[\"y_hamp_radar\"][:, :] = yz_r\n",
    "ds.createVariable(\"y_hamp_radar_nedt\", \"f8\", dimensions = (\"profile_index\", \"y_hamp_radar_bins\"))\n",
    "ds.variables[\"y_hamp_radar_nedt\"][:, :] = nedt"
   ]
  },
  {
   "cell_type": "code",
   "execution_count": null,
   "metadata": {},
   "outputs": [],
   "source": [
    "yz_r.shape"
   ]
  },
  {
   "cell_type": "markdown",
   "metadata": {},
   "source": [
    "### Hamp radiometer"
   ]
  },
  {
   "cell_type": "code",
   "execution_count": null,
   "metadata": {},
   "outputs": [],
   "source": [
    "ds.createDimension(\"hamp_channels\", size = 26)\n",
    "ds.createVariable(\"y_hamp_passive\", \"f8\", dimensions = (\"profile_index\", \"hamp_channels\"))\n",
    "ds.createVariable(\"y_hamp_passive_nedt\", \"f8\", dimensions = (\"profile_index\", \"hamp_channels\"))"
   ]
  },
  {
   "cell_type": "code",
   "execution_count": null,
   "metadata": {},
   "outputs": [],
   "source": [
    "# Fill gaps in data with NN interpolation.\n",
    "y_hamp_passive = np.zeros(hamp.bt.shape)\n",
    "for i in range(y_hamp_passive.shape[1]):\n",
    "    mask = np.logical_not(hamp.bt.mask[:, i])\n",
    "    y_hamp_passive[mask, i] = hamp.bt[mask, i]\n",
    "    for j in np.where(hamp.bt.mask[:, i])[0]:\n",
    "        j_ind = np.argmin(np.abs(j - np.where(mask)[0]))\n",
    "        j_ind = np.where(mask)[0][j_ind]\n",
    "        y_hamp_passive[j, i] = hamp.bt[j_ind, i]"
   ]
  },
  {
   "cell_type": "code",
   "execution_count": null,
   "metadata": {},
   "outputs": [],
   "source": [
    "ds.variables[\"y_hamp_passive\"][:, :] = y_hamp_passive"
   ]
  },
  {
   "cell_type": "code",
   "execution_count": null,
   "metadata": {},
   "outputs": [],
   "source": [
    "from scipy.signal import convolve\n",
    "\n",
    "k = np.ones(5) / 5.0\n",
    "land = hamp.zs > 0.0\n",
    "land = convolve(land, k, \"same\")\n",
    "surface_inds = np.where(land > 0.0)[0]\n",
    "nedts = np.zeros((hamp.d.size, 26))\n",
    "surface_channels = np.arange(19)\n",
    "for i in surface_channels:\n",
    "    nedts[surface_inds, i] = 1e6"
   ]
  },
  {
   "cell_type": "code",
   "execution_count": null,
   "metadata": {},
   "outputs": [],
   "source": [
    "np.where?"
   ]
  },
  {
   "cell_type": "code",
   "execution_count": null,
   "metadata": {},
   "outputs": [],
   "source": [
    "plt.scatter(surface_inds, np.ones(surface_inds.size))"
   ]
  },
  {
   "cell_type": "code",
   "execution_count": null,
   "metadata": {},
   "outputs": [],
   "source": [
    "ds.variables[\"y_hamp_passive_nedt\"][:, :] = nedts"
   ]
  },
  {
   "cell_type": "markdown",
   "metadata": {},
   "source": [
    "### ISMAR radiometer"
   ]
  },
  {
   "cell_type": "code",
   "execution_count": null,
   "metadata": {},
   "outputs": [],
   "source": [
    "ismar_tbs_i = np.zeros((hamp.d.size, 21))\n",
    "ismar_nedt_i = np.zeros((hamp.d.size, 21))\n",
    "for i in range(21):\n",
    "    ismar_tbs_i[:, i] = np.interp(hamp.d, ismar.d, ismar.tbs[:, i])\n",
    "    ismar_nedt_i[:, i] = np.interp(hamp.d, ismar.d, ismar.nedt[:, i])"
   ]
  },
  {
   "cell_type": "markdown",
   "metadata": {},
   "source": [
    "For the ISMAR radiomenter not all channels contain useful information. For the retrieval\n",
    "only the following channels will be used:\n",
    "\n",
    "| Frequency [GHz] | Number of channels| Original channel indices  |\n",
    "|-----------------|-------------------|---------------------------|\n",
    "| 118             |         5         |            0, 1, 2, 3, 4  |\n",
    "| 243             |         1         |            mean of 5, 6   |\n",
    "| 325             |         3         |                 7, 8, 9   |\n",
    "| 664             |         1         |                 17        |\n"
   ]
  },
  {
   "cell_type": "code",
   "execution_count": null,
   "metadata": {},
   "outputs": [],
   "source": [
    "y_ismar = np.zeros((hamp.d.size, 10))\n",
    "y_ismar_nedt = np.zeros((hamp.d.size, 10))\n",
    "\n",
    "# 118 GHz\n",
    "y_ismar[:, :5] = ismar_tbs_i[:, :5]\n",
    "y_ismar_nedt[:, :5] = ismar_nedt_i[:, :5]\n",
    "\n",
    "# 243 GHz\n",
    "y_ismar[:, 5] = np.mean(ismar_tbs_i[:, 5 : 7], axis = 1)\n",
    "y_ismar_nedt[:, 5] = np.sqrt(np.sum(ismar_nedt_i[:, 5 : 7] ** 2, axis = 1) / 2.0)\n",
    "\n",
    "# 325 GHz\n",
    "y_ismar[:, 6 : 9] = ismar_tbs_i[:, 7 : 10]\n",
    "y_ismar_nedt[:, 6 : 9] = ismar_nedt_i[:, 7 : 10]\n",
    "\n",
    "# 664 GHz\n",
    "y_ismar[:, 9] = ismar_tbs_i[:, 17]\n",
    "y_ismar_nedt[:, 9] = ismar_nedt_i[:, 17]\n",
    "\n",
    "# Disable surface sensitive channels\n",
    "surface_channels = np.arange(5)\n",
    "for i in surface_channels:\n",
    "    y_ismar_nedt[surface_inds, i] = 1e6"
   ]
  },
  {
   "cell_type": "code",
   "execution_count": null,
   "metadata": {},
   "outputs": [],
   "source": [
    "ds.createDimension(\"ismar_channels\", size = 10)\n",
    "ds.createVariable(\"y_ismar\", \"f8\", dimensions = (\"profile_index\", \"ismar_channels\"))\n",
    "ds.createVariable(\"y_ismar_nedt\", \"f8\", dimensions = (\"profile_index\", \"ismar_channels\"))\n",
    "ds[\"y_ismar\"][:] = y_ismar\n",
    "ds[\"y_ismar_nedt\"][:] = y_ismar_nedt"
   ]
  },
  {
   "cell_type": "markdown",
   "metadata": {},
   "source": [
    "## Rasta radar"
   ]
  },
  {
   "cell_type": "code",
   "execution_count": null,
   "metadata": {},
   "outputs": [],
   "source": [
    "from matplotlib.colors import Normalize\n",
    "from joint_flight.data import rasta\n",
    "from joint_flight.plots import grid_to_edges\n",
    "xx = grid_to_edges(np.broadcast_to(rasta.d[:, np.newaxis], rasta.z.shape))\n",
    "yy = grid_to_edges(rasta.z)\n",
    "plt.pcolormesh(xx, yy, rasta.dbz, norm = Normalize(-20, 20))\n",
    "plt.ylim([100, 1e4])\n",
    "plt.colorbar()"
   ]
  },
  {
   "cell_type": "markdown",
   "metadata": {},
   "source": [
    "Interpolate rasta radar to same grid."
   ]
  },
  {
   "cell_type": "code",
   "execution_count": null,
   "metadata": {},
   "outputs": [],
   "source": [
    "bins = hamp_radar.range_bins\n",
    "yz_r = np.zeros((hamp.d.size, hamp_radar.range_bins.size - 1))\n",
    "\n",
    "x = np.zeros(hamp.d.size + 1)\n",
    "x[1:-1] = 0.5 * (hamp.d[1:] + hamp.d[:-1])\n",
    "x[0] = hamp.d[0] - 0.5 * (hamp.d[1] - hamp.d[0])\n",
    "x[-1] = hamp.d[-1] + 0.5 * (hamp.d[-1] - hamp.d[-2])\n",
    "\n",
    "for i in range(hamp.d.size):\n",
    "    i_start = np.where(rasta.d >= x[i])[0][0]\n",
    "    i_end = np.where(rasta.d > x[i + 1])[0][0]\n",
    "    \n",
    "    y = 10 ** (rasta.dbz[i_start : i_end, :].data / 10).ravel()\n",
    "    z = rasta.z[i_start : i_end, :].ravel()\n",
    "    cts, _ = np.histogram(z, bins=bins)\n",
    "    yt, _ = np.histogram(z, weights=y, bins=bins)\n",
    "    yz_r[i, :] = np.maximum(10.0 * np.log10(yt / cts), -20.0)\n",
    "    yz_r[i, cts == 0.0] = -20.0\n",
    "    \n",
    "dz = bins[:-1].reshape(1, -1) - np.maximum(hamp.zs.reshape(-1, 1), 0.0)"
   ]
  },
  {
   "cell_type": "code",
   "execution_count": null,
   "metadata": {},
   "outputs": [],
   "source": [
    "ds.createVariable(\"y_rasta\", \"f8\", dimensions = (\"profile_index\", \"y_hamp_radar_bins\"))\n",
    "ds.variables[\"y_rasta\"][:, :] = yz_r"
   ]
  },
  {
   "cell_type": "code",
   "execution_count": null,
   "metadata": {},
   "outputs": [],
   "source": [
    "ds.close()"
   ]
  },
  {
   "cell_type": "code",
   "execution_count": null,
   "metadata": {},
   "outputs": [],
   "source": [
    "hamp.d.size"
   ]
  },
  {
   "cell_type": "code",
   "execution_count": null,
   "metadata": {},
   "outputs": [],
   "source": []
  }
 ],
 "metadata": {
  "kernelspec": {
   "display_name": "Python 3",
   "language": "python",
   "name": "python3"
  },
  "language_info": {
   "codemirror_mode": {
    "name": "ipython",
    "version": 3
   },
   "file_extension": ".py",
   "mimetype": "text/x-python",
   "name": "python",
   "nbconvert_exporter": "python",
   "pygments_lexer": "ipython3",
   "version": "3.7.4"
  }
 },
 "nbformat": 4,
 "nbformat_minor": 2
}
